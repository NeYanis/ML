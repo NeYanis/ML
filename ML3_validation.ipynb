{
 "cells": [
  {
   "cell_type": "markdown",
   "id": "53d9e97c",
   "metadata": {},
   "source": [
    "# 1"
   ]
  },
  {
   "cell_type": "markdown",
   "id": "9c0d0c1a",
   "metadata": {},
   "source": [
    "## I"
   ]
  },
  {
   "cell_type": "markdown",
   "id": "3ac60315",
   "metadata": {},
   "source": [
    "Leave-One-Out Cross-Validation (LOOCV, Перекрёстная проверка с исключением по одному) — это метод валидации модели, крайний случай k-Fold CV. Из набора данных размера N одно наблюдение исключается и используется в качестве тестового. Модель обучается на оставшихся N-1 наблюдениях. Этот процесс повторяется N раз, так чтобы каждое наблюдение побывало в роли тестового ровно один раз. Финальная оценка модели (например, точность) — это среднее арифметическое всех N полученных результатов."
   ]
  },
  {
   "cell_type": "markdown",
   "id": "a75e8316",
   "metadata": {},
   "source": [
    "## II"
   ]
  },
  {
   "cell_type": "markdown",
   "id": "988146dd",
   "metadata": {},
   "source": [
    "GridSearch перебирает всевозможные комбинации гиперпараметров, модель обучается для каждой комбинации"
   ]
  },
  {
   "cell_type": "markdown",
   "id": "8a2932d3",
   "metadata": {},
   "source": [
    "Randomized Grid Search - задается распределение для каждого гиперпараметра и производится случайная выборка n комбинаций из этих распределений "
   ]
  },
  {
   "cell_type": "markdown",
   "id": "d649a1c9",
   "metadata": {},
   "source": [
    "Bayesian Optimization строит вероятностную модель зависимости качества модели от гиперпараметров. И использует эту модель для проверки в следующей итерации"
   ]
  },
  {
   "cell_type": "markdown",
   "id": "915de38e",
   "metadata": {},
   "source": [
    "## III"
   ]
  },
  {
   "cell_type": "markdown",
   "id": "77e7d370",
   "metadata": {},
   "source": [
    "Методы делятся на 3 категории:"
   ]
  },
  {
   "cell_type": "markdown",
   "id": "177cd8ac",
   "metadata": {},
   "source": [
    "Filter Methods - оценивают признаки по связи с целевой переменной"
   ]
  },
  {
   "cell_type": "markdown",
   "id": "71292ca3",
   "metadata": {},
   "source": [
    "Wrapper Methods - используется модель для оценки подмножеств признаков учитывая взаимодействие признаков"
   ]
  },
  {
   "cell_type": "markdown",
   "id": "cffa2462",
   "metadata": {},
   "source": [
    "Embedded Methods - процесс отбора признаков встроен непосредственно в процесс обучения модели"
   ]
  },
  {
   "cell_type": "markdown",
   "id": "31700a98",
   "metadata": {},
   "source": [
    "Корреляция Пирсона измеряет линейную зависимость между двумя переменными. Она возвращает значение от -1 до 1.\n",
    "Мы отбираем признаки с наибольшими по модулю значениями коэффициента (как близкие к 1, так и близкие к -1), так как они сильнее всего влияют на целевую переменную.\n",
    "\n",
    "Недостаток: Не обнаруживает нелинейные зависимости."
   ]
  },
  {
   "cell_type": "markdown",
   "id": "c764e871",
   "metadata": {},
   "source": [
    "Хи-квадрат используется для оценки зависимости между категориальными признаками и целевой переменной. Он измеряет насколько наблюдаемые частоты отличаются от ожидаемых. Чем больше значение хи-квадрат, тем сильнее связь между признаком и целевой переменной."
   ]
  },
  {
   "cell_type": "markdown",
   "id": "da8f67d1",
   "metadata": {},
   "source": [
    "Lasso добавляет штраф за абсолютное значение коэффициентов модели. Признаки становятся нулевыми и по сути исключаются"
   ]
  },
  {
   "cell_type": "markdown",
   "id": "9d02839e",
   "metadata": {},
   "source": [
    "Permutation Importance измеряет, насколько сильно ухудшится производительность модели, если значения одного признака случайным образом перемешать. Если производительность значительно падает, значит, признак важен."
   ]
  },
  {
   "cell_type": "markdown",
   "id": "f493da2a",
   "metadata": {},
   "source": [
    "SHAP (SHapley Additive exPlanations) — это метод объяснения предсказаний модели, основанный на теории игр (значения Шепли). Он показывает, как каждый признак влияет на предсказание для конкретного объекта."
   ]
  },
  {
   "cell_type": "markdown",
   "id": "db182b12",
   "metadata": {},
   "source": [
    "# 2"
   ]
  },
  {
   "cell_type": "code",
   "execution_count": 1,
   "id": "cc9cd09b",
   "metadata": {
    "scrolled": true
   },
   "outputs": [
    {
     "name": "stdout",
     "output_type": "stream",
     "text": [
      "Requirement already satisfied: shap in c:\\users\\ivanl\\anaconda3\\lib\\site-packages (0.48.0)\n",
      "Requirement already satisfied: numpy in c:\\users\\ivanl\\anaconda3\\lib\\site-packages (from shap) (1.24.3)\n",
      "Requirement already satisfied: scipy in c:\\users\\ivanl\\anaconda3\\lib\\site-packages (from shap) (1.11.1)\n",
      "Requirement already satisfied: scikit-learn in c:\\users\\ivanl\\anaconda3\\lib\\site-packages (from shap) (1.3.0)\n",
      "Requirement already satisfied: pandas in c:\\users\\ivanl\\anaconda3\\lib\\site-packages (from shap) (2.0.3)\n",
      "Requirement already satisfied: tqdm>=4.27.0 in c:\\users\\ivanl\\anaconda3\\lib\\site-packages (from shap) (4.65.0)\n",
      "Requirement already satisfied: packaging>20.9 in c:\\users\\ivanl\\anaconda3\\lib\\site-packages (from shap) (23.1)\n",
      "Requirement already satisfied: slicer==0.0.8 in c:\\users\\ivanl\\anaconda3\\lib\\site-packages (from shap) (0.0.8)\n",
      "Requirement already satisfied: numba>=0.54 in c:\\users\\ivanl\\anaconda3\\lib\\site-packages (from shap) (0.57.1)\n",
      "Requirement already satisfied: cloudpickle in c:\\users\\ivanl\\anaconda3\\lib\\site-packages (from shap) (2.2.1)\n",
      "Requirement already satisfied: typing-extensions in c:\\users\\ivanl\\anaconda3\\lib\\site-packages (from shap) (4.15.0)\n",
      "Requirement already satisfied: llvmlite<0.41,>=0.40.0dev0 in c:\\users\\ivanl\\anaconda3\\lib\\site-packages (from numba>=0.54->shap) (0.40.0)\n",
      "Requirement already satisfied: colorama in c:\\users\\ivanl\\anaconda3\\lib\\site-packages (from tqdm>=4.27.0->shap) (0.4.6)\n",
      "Requirement already satisfied: python-dateutil>=2.8.2 in c:\\users\\ivanl\\anaconda3\\lib\\site-packages (from pandas->shap) (2.8.2)\n",
      "Requirement already satisfied: pytz>=2020.1 in c:\\users\\ivanl\\anaconda3\\lib\\site-packages (from pandas->shap) (2023.3.post1)\n",
      "Requirement already satisfied: tzdata>=2022.1 in c:\\users\\ivanl\\anaconda3\\lib\\site-packages (from pandas->shap) (2023.3)\n",
      "Requirement already satisfied: joblib>=1.1.1 in c:\\users\\ivanl\\anaconda3\\lib\\site-packages (from scikit-learn->shap) (1.2.0)\n",
      "Requirement already satisfied: threadpoolctl>=2.0.0 in c:\\users\\ivanl\\anaconda3\\lib\\site-packages (from scikit-learn->shap) (2.2.0)\n",
      "Requirement already satisfied: six>=1.5 in c:\\users\\ivanl\\anaconda3\\lib\\site-packages (from python-dateutil>=2.8.2->pandas->shap) (1.16.0)\n",
      "Note: you may need to restart the kernel to use updated packages.\n"
     ]
    }
   ],
   "source": [
    "pip install shap"
   ]
  },
  {
   "cell_type": "code",
   "execution_count": 2,
   "id": "13053934",
   "metadata": {},
   "outputs": [
    {
     "name": "stdout",
     "output_type": "stream",
     "text": [
      "Requirement already satisfied: optuna in c:\\users\\ivanl\\anaconda3\\lib\\site-packages (4.5.0)\n",
      "Requirement already satisfied: alembic>=1.5.0 in c:\\users\\ivanl\\anaconda3\\lib\\site-packages (from optuna) (1.16.5)\n",
      "Requirement already satisfied: colorlog in c:\\users\\ivanl\\anaconda3\\lib\\site-packages (from optuna) (6.9.0)\n",
      "Requirement already satisfied: numpy in c:\\users\\ivanl\\anaconda3\\lib\\site-packages (from optuna) (1.24.3)\n",
      "Requirement already satisfied: packaging>=20.0 in c:\\users\\ivanl\\anaconda3\\lib\\site-packages (from optuna) (23.1)\n",
      "Requirement already satisfied: sqlalchemy>=1.4.2 in c:\\users\\ivanl\\anaconda3\\lib\\site-packages (from optuna) (1.4.39)\n",
      "Requirement already satisfied: tqdm in c:\\users\\ivanl\\anaconda3\\lib\\site-packages (from optuna) (4.65.0)\n",
      "Requirement already satisfied: PyYAML in c:\\users\\ivanl\\anaconda3\\lib\\site-packages (from optuna) (6.0)\n",
      "Requirement already satisfied: Mako in c:\\users\\ivanl\\anaconda3\\lib\\site-packages (from alembic>=1.5.0->optuna) (1.3.10)\n",
      "Requirement already satisfied: typing-extensions>=4.12 in c:\\users\\ivanl\\anaconda3\\lib\\site-packages (from alembic>=1.5.0->optuna) (4.15.0)\n",
      "Requirement already satisfied: greenlet!=0.4.17 in c:\\users\\ivanl\\anaconda3\\lib\\site-packages (from sqlalchemy>=1.4.2->optuna) (2.0.1)\n",
      "Requirement already satisfied: colorama in c:\\users\\ivanl\\anaconda3\\lib\\site-packages (from colorlog->optuna) (0.4.6)\n",
      "Requirement already satisfied: MarkupSafe>=0.9.2 in c:\\users\\ivanl\\anaconda3\\lib\\site-packages (from Mako->alembic>=1.5.0->optuna) (2.1.1)\n",
      "Note: you may need to restart the kernel to use updated packages.\n"
     ]
    }
   ],
   "source": [
    "pip install optuna"
   ]
  },
  {
   "cell_type": "code",
   "execution_count": 3,
   "id": "c098b003",
   "metadata": {},
   "outputs": [],
   "source": [
    "import pandas as pd\n",
    "import numpy as np\n",
    "import random\n",
    "import shap\n",
    "import optuna\n",
    "from collections import Counter\n",
    "from sklearn.model_selection import train_test_split, KFold, GroupKFold, StratifiedKFold, TimeSeriesSplit, GridSearchCV, RandomizedSearchCV,cross_val_score\n",
    "from sklearn.linear_model import LassoCV, ElasticNet\n",
    "from sklearn.metrics import mean_absolute_error, mean_squared_error, r2_score\n",
    "from sklearn.inspection import permutation_importance"
   ]
  },
  {
   "cell_type": "code",
   "execution_count": 4,
   "id": "9445785e",
   "metadata": {},
   "outputs": [
    {
     "name": "stdout",
     "output_type": "stream",
     "text": [
      "<class 'pandas.core.frame.DataFrame'>\n",
      "Index: 49352 entries, 4 to 124009\n",
      "Data columns (total 15 columns):\n",
      " #   Column           Non-Null Count  Dtype  \n",
      "---  ------           --------------  -----  \n",
      " 0   bathrooms        49352 non-null  float64\n",
      " 1   bedrooms         49352 non-null  int64  \n",
      " 2   building_id      49352 non-null  object \n",
      " 3   created          49352 non-null  object \n",
      " 4   description      49352 non-null  object \n",
      " 5   display_address  49352 non-null  object \n",
      " 6   features         49352 non-null  object \n",
      " 7   latitude         49352 non-null  float64\n",
      " 8   listing_id       49352 non-null  int64  \n",
      " 9   longitude        49352 non-null  float64\n",
      " 10  manager_id       49352 non-null  object \n",
      " 11  photos           49352 non-null  object \n",
      " 12  price            49352 non-null  int64  \n",
      " 13  street_address   49352 non-null  object \n",
      " 14  interest_level   49352 non-null  object \n",
      "dtypes: float64(3), int64(3), object(9)\n",
      "memory usage: 6.0+ MB\n"
     ]
    }
   ],
   "source": [
    "data = pd.read_json('datasets/train.json')\n",
    "data.info()"
   ]
  },
  {
   "cell_type": "code",
   "execution_count": 5,
   "id": "bce7290f",
   "metadata": {},
   "outputs": [
    {
     "data": {
      "text/plain": [
       "interest_level\n",
       "0    34284\n",
       "1    11229\n",
       "2     3839\n",
       "Name: count, dtype: int64"
      ]
     },
     "execution_count": 5,
     "metadata": {},
     "output_type": "execute_result"
    }
   ],
   "source": [
    "data['interest_level'] = data['interest_level'].replace({'low':0,'medium':1,'high':2}).astype(int)\n",
    "data['interest_level'].value_counts()"
   ]
  },
  {
   "cell_type": "code",
   "execution_count": 6,
   "id": "7aa03264",
   "metadata": {},
   "outputs": [],
   "source": [
    "def clean(feature):\n",
    "  if feature is None:\n",
    "    return []\n",
    "  feature_str = str(feature)\n",
    "  if feature_str.strip() == '[]':\n",
    "    return []\n",
    "  cleaned = (feature_str.replace('[', '').replace(']', '').replace(\"'\", \"\").replace('\"', '').strip())\n",
    "  return [item.strip() for item in cleaned.split(',') if item.strip()]\n",
    "\n",
    "data['features'] = data['features'].apply(clean)\n",
    "\n",
    "\n",
    "all_features = []\n",
    "for feature_list in data['features']:\n",
    "    all_features.extend(feature_list)"
   ]
  },
  {
   "cell_type": "code",
   "execution_count": 7,
   "id": "b27796df",
   "metadata": {},
   "outputs": [],
   "source": [
    "top = Counter(all_features).most_common(20)\n",
    "for item in top:\n",
    "  data[f'{item[0]}'] = data['features'].apply(lambda x: int(item[0] in str(x)) if item else 0)"
   ]
  },
  {
   "cell_type": "code",
   "execution_count": 8,
   "id": "6159f518",
   "metadata": {},
   "outputs": [
    {
     "name": "stdout",
     "output_type": "stream",
     "text": [
      "<class 'pandas.core.frame.DataFrame'>\n",
      "Index: 49352 entries, 4 to 124009\n",
      "Data columns (total 35 columns):\n",
      " #   Column               Non-Null Count  Dtype  \n",
      "---  ------               --------------  -----  \n",
      " 0   bathrooms            49352 non-null  float64\n",
      " 1   bedrooms             49352 non-null  int64  \n",
      " 2   building_id          49352 non-null  object \n",
      " 3   created              49352 non-null  object \n",
      " 4   description          49352 non-null  object \n",
      " 5   display_address      49352 non-null  object \n",
      " 6   features             49352 non-null  object \n",
      " 7   latitude             49352 non-null  float64\n",
      " 8   listing_id           49352 non-null  int64  \n",
      " 9   longitude            49352 non-null  float64\n",
      " 10  manager_id           49352 non-null  object \n",
      " 11  photos               49352 non-null  object \n",
      " 12  price                49352 non-null  int64  \n",
      " 13  street_address       49352 non-null  object \n",
      " 14  interest_level       49352 non-null  int32  \n",
      " 15  Elevator             49352 non-null  int64  \n",
      " 16  Cats Allowed         49352 non-null  int64  \n",
      " 17  Hardwood Floors      49352 non-null  int64  \n",
      " 18  Dogs Allowed         49352 non-null  int64  \n",
      " 19  Doorman              49352 non-null  int64  \n",
      " 20  Dishwasher           49352 non-null  int64  \n",
      " 21  No Fee               49352 non-null  int64  \n",
      " 22  Laundry in Building  49352 non-null  int64  \n",
      " 23  Fitness Center       49352 non-null  int64  \n",
      " 24  Pre-War              49352 non-null  int64  \n",
      " 25  Laundry in Unit      49352 non-null  int64  \n",
      " 26  Roof Deck            49352 non-null  int64  \n",
      " 27  Outdoor Space        49352 non-null  int64  \n",
      " 28  Dining Room          49352 non-null  int64  \n",
      " 29  High Speed Internet  49352 non-null  int64  \n",
      " 30  Balcony              49352 non-null  int64  \n",
      " 31  Swimming Pool        49352 non-null  int64  \n",
      " 32  Laundry In Building  49352 non-null  int64  \n",
      " 33  New Construction     49352 non-null  int64  \n",
      " 34  Terrace              49352 non-null  int64  \n",
      "dtypes: float64(3), int32(1), int64(23), object(8)\n",
      "memory usage: 13.4+ MB\n"
     ]
    }
   ],
   "source": [
    "data.info()"
   ]
  },
  {
   "cell_type": "code",
   "execution_count": 9,
   "id": "f33812c5",
   "metadata": {},
   "outputs": [
    {
     "data": {
      "text/plain": [
       "['bathrooms',\n",
       " 'bedrooms',\n",
       " 'interest_level',\n",
       " 'created',\n",
       " 'Elevator',\n",
       " 'Cats Allowed',\n",
       " 'Hardwood Floors',\n",
       " 'Dogs Allowed',\n",
       " 'Doorman',\n",
       " 'Dishwasher',\n",
       " 'No Fee',\n",
       " 'Laundry in Building',\n",
       " 'Fitness Center',\n",
       " 'Pre-War',\n",
       " 'Laundry in Unit',\n",
       " 'Roof Deck',\n",
       " 'Outdoor Space',\n",
       " 'Dining Room',\n",
       " 'High Speed Internet',\n",
       " 'Balcony',\n",
       " 'Swimming Pool',\n",
       " 'Laundry In Building',\n",
       " 'New Construction',\n",
       " 'Terrace']"
      ]
     },
     "execution_count": 9,
     "metadata": {},
     "output_type": "execute_result"
    }
   ],
   "source": [
    "features = ['bathrooms', 'bedrooms', 'interest_level', 'created']\n",
    "for item in top:\n",
    "  features.append(item[0])\n",
    "features"
   ]
  },
  {
   "cell_type": "code",
   "execution_count": 10,
   "id": "11b5e7c8",
   "metadata": {},
   "outputs": [
    {
     "data": {
      "text/html": [
       "<div>\n",
       "<style scoped>\n",
       "    .dataframe tbody tr th:only-of-type {\n",
       "        vertical-align: middle;\n",
       "    }\n",
       "\n",
       "    .dataframe tbody tr th {\n",
       "        vertical-align: top;\n",
       "    }\n",
       "\n",
       "    .dataframe thead th {\n",
       "        text-align: right;\n",
       "    }\n",
       "</style>\n",
       "<table border=\"1\" class=\"dataframe\">\n",
       "  <thead>\n",
       "    <tr style=\"text-align: right;\">\n",
       "      <th></th>\n",
       "      <th>bathrooms</th>\n",
       "      <th>bedrooms</th>\n",
       "      <th>interest_level</th>\n",
       "      <th>created</th>\n",
       "      <th>Elevator</th>\n",
       "      <th>Cats Allowed</th>\n",
       "      <th>Hardwood Floors</th>\n",
       "      <th>Dogs Allowed</th>\n",
       "      <th>Doorman</th>\n",
       "      <th>Dishwasher</th>\n",
       "      <th>...</th>\n",
       "      <th>Roof Deck</th>\n",
       "      <th>Outdoor Space</th>\n",
       "      <th>Dining Room</th>\n",
       "      <th>High Speed Internet</th>\n",
       "      <th>Balcony</th>\n",
       "      <th>Swimming Pool</th>\n",
       "      <th>Laundry In Building</th>\n",
       "      <th>New Construction</th>\n",
       "      <th>Terrace</th>\n",
       "      <th>price</th>\n",
       "    </tr>\n",
       "  </thead>\n",
       "  <tbody>\n",
       "    <tr>\n",
       "      <th>0</th>\n",
       "      <td>1.0</td>\n",
       "      <td>1</td>\n",
       "      <td>1</td>\n",
       "      <td>2016-06-16 05:55:27</td>\n",
       "      <td>0</td>\n",
       "      <td>1</td>\n",
       "      <td>1</td>\n",
       "      <td>1</td>\n",
       "      <td>0</td>\n",
       "      <td>1</td>\n",
       "      <td>...</td>\n",
       "      <td>0</td>\n",
       "      <td>0</td>\n",
       "      <td>1</td>\n",
       "      <td>0</td>\n",
       "      <td>0</td>\n",
       "      <td>0</td>\n",
       "      <td>0</td>\n",
       "      <td>0</td>\n",
       "      <td>0</td>\n",
       "      <td>2400</td>\n",
       "    </tr>\n",
       "    <tr>\n",
       "      <th>1</th>\n",
       "      <td>1.0</td>\n",
       "      <td>2</td>\n",
       "      <td>0</td>\n",
       "      <td>2016-06-01 05:44:33</td>\n",
       "      <td>1</td>\n",
       "      <td>0</td>\n",
       "      <td>1</td>\n",
       "      <td>0</td>\n",
       "      <td>1</td>\n",
       "      <td>1</td>\n",
       "      <td>...</td>\n",
       "      <td>0</td>\n",
       "      <td>0</td>\n",
       "      <td>0</td>\n",
       "      <td>0</td>\n",
       "      <td>0</td>\n",
       "      <td>0</td>\n",
       "      <td>0</td>\n",
       "      <td>0</td>\n",
       "      <td>0</td>\n",
       "      <td>3800</td>\n",
       "    </tr>\n",
       "    <tr>\n",
       "      <th>2</th>\n",
       "      <td>1.0</td>\n",
       "      <td>2</td>\n",
       "      <td>1</td>\n",
       "      <td>2016-06-14 15:19:59</td>\n",
       "      <td>1</td>\n",
       "      <td>0</td>\n",
       "      <td>1</td>\n",
       "      <td>0</td>\n",
       "      <td>1</td>\n",
       "      <td>1</td>\n",
       "      <td>...</td>\n",
       "      <td>0</td>\n",
       "      <td>0</td>\n",
       "      <td>0</td>\n",
       "      <td>0</td>\n",
       "      <td>0</td>\n",
       "      <td>0</td>\n",
       "      <td>0</td>\n",
       "      <td>0</td>\n",
       "      <td>0</td>\n",
       "      <td>3495</td>\n",
       "    </tr>\n",
       "    <tr>\n",
       "      <th>3</th>\n",
       "      <td>1.5</td>\n",
       "      <td>3</td>\n",
       "      <td>1</td>\n",
       "      <td>2016-06-24 07:54:24</td>\n",
       "      <td>0</td>\n",
       "      <td>0</td>\n",
       "      <td>0</td>\n",
       "      <td>0</td>\n",
       "      <td>0</td>\n",
       "      <td>0</td>\n",
       "      <td>...</td>\n",
       "      <td>0</td>\n",
       "      <td>0</td>\n",
       "      <td>0</td>\n",
       "      <td>0</td>\n",
       "      <td>0</td>\n",
       "      <td>0</td>\n",
       "      <td>0</td>\n",
       "      <td>0</td>\n",
       "      <td>0</td>\n",
       "      <td>3000</td>\n",
       "    </tr>\n",
       "    <tr>\n",
       "      <th>4</th>\n",
       "      <td>1.0</td>\n",
       "      <td>0</td>\n",
       "      <td>0</td>\n",
       "      <td>2016-06-28 03:50:23</td>\n",
       "      <td>1</td>\n",
       "      <td>0</td>\n",
       "      <td>0</td>\n",
       "      <td>0</td>\n",
       "      <td>1</td>\n",
       "      <td>0</td>\n",
       "      <td>...</td>\n",
       "      <td>0</td>\n",
       "      <td>0</td>\n",
       "      <td>0</td>\n",
       "      <td>0</td>\n",
       "      <td>0</td>\n",
       "      <td>0</td>\n",
       "      <td>0</td>\n",
       "      <td>0</td>\n",
       "      <td>0</td>\n",
       "      <td>2795</td>\n",
       "    </tr>\n",
       "    <tr>\n",
       "      <th>...</th>\n",
       "      <td>...</td>\n",
       "      <td>...</td>\n",
       "      <td>...</td>\n",
       "      <td>...</td>\n",
       "      <td>...</td>\n",
       "      <td>...</td>\n",
       "      <td>...</td>\n",
       "      <td>...</td>\n",
       "      <td>...</td>\n",
       "      <td>...</td>\n",
       "      <td>...</td>\n",
       "      <td>...</td>\n",
       "      <td>...</td>\n",
       "      <td>...</td>\n",
       "      <td>...</td>\n",
       "      <td>...</td>\n",
       "      <td>...</td>\n",
       "      <td>...</td>\n",
       "      <td>...</td>\n",
       "      <td>...</td>\n",
       "      <td>...</td>\n",
       "    </tr>\n",
       "    <tr>\n",
       "      <th>49347</th>\n",
       "      <td>1.0</td>\n",
       "      <td>3</td>\n",
       "      <td>0</td>\n",
       "      <td>2016-04-05 03:58:33</td>\n",
       "      <td>1</td>\n",
       "      <td>0</td>\n",
       "      <td>1</td>\n",
       "      <td>0</td>\n",
       "      <td>0</td>\n",
       "      <td>1</td>\n",
       "      <td>...</td>\n",
       "      <td>0</td>\n",
       "      <td>0</td>\n",
       "      <td>0</td>\n",
       "      <td>0</td>\n",
       "      <td>0</td>\n",
       "      <td>0</td>\n",
       "      <td>0</td>\n",
       "      <td>0</td>\n",
       "      <td>0</td>\n",
       "      <td>2800</td>\n",
       "    </tr>\n",
       "    <tr>\n",
       "      <th>49348</th>\n",
       "      <td>1.0</td>\n",
       "      <td>2</td>\n",
       "      <td>1</td>\n",
       "      <td>2016-04-02 02:25:31</td>\n",
       "      <td>1</td>\n",
       "      <td>1</td>\n",
       "      <td>0</td>\n",
       "      <td>1</td>\n",
       "      <td>1</td>\n",
       "      <td>0</td>\n",
       "      <td>...</td>\n",
       "      <td>0</td>\n",
       "      <td>1</td>\n",
       "      <td>0</td>\n",
       "      <td>0</td>\n",
       "      <td>0</td>\n",
       "      <td>0</td>\n",
       "      <td>1</td>\n",
       "      <td>0</td>\n",
       "      <td>0</td>\n",
       "      <td>2395</td>\n",
       "    </tr>\n",
       "    <tr>\n",
       "      <th>49349</th>\n",
       "      <td>1.0</td>\n",
       "      <td>1</td>\n",
       "      <td>1</td>\n",
       "      <td>2016-04-26 05:42:03</td>\n",
       "      <td>1</td>\n",
       "      <td>1</td>\n",
       "      <td>1</td>\n",
       "      <td>1</td>\n",
       "      <td>0</td>\n",
       "      <td>1</td>\n",
       "      <td>...</td>\n",
       "      <td>0</td>\n",
       "      <td>0</td>\n",
       "      <td>1</td>\n",
       "      <td>0</td>\n",
       "      <td>0</td>\n",
       "      <td>0</td>\n",
       "      <td>0</td>\n",
       "      <td>0</td>\n",
       "      <td>0</td>\n",
       "      <td>1850</td>\n",
       "    </tr>\n",
       "    <tr>\n",
       "      <th>49350</th>\n",
       "      <td>1.0</td>\n",
       "      <td>2</td>\n",
       "      <td>1</td>\n",
       "      <td>2016-04-19 02:47:33</td>\n",
       "      <td>0</td>\n",
       "      <td>0</td>\n",
       "      <td>0</td>\n",
       "      <td>0</td>\n",
       "      <td>0</td>\n",
       "      <td>1</td>\n",
       "      <td>...</td>\n",
       "      <td>0</td>\n",
       "      <td>1</td>\n",
       "      <td>0</td>\n",
       "      <td>0</td>\n",
       "      <td>0</td>\n",
       "      <td>0</td>\n",
       "      <td>0</td>\n",
       "      <td>0</td>\n",
       "      <td>0</td>\n",
       "      <td>4195</td>\n",
       "    </tr>\n",
       "    <tr>\n",
       "      <th>49351</th>\n",
       "      <td>1.0</td>\n",
       "      <td>3</td>\n",
       "      <td>2</td>\n",
       "      <td>2016-04-20 05:34:00</td>\n",
       "      <td>1</td>\n",
       "      <td>0</td>\n",
       "      <td>1</td>\n",
       "      <td>0</td>\n",
       "      <td>0</td>\n",
       "      <td>1</td>\n",
       "      <td>...</td>\n",
       "      <td>0</td>\n",
       "      <td>0</td>\n",
       "      <td>1</td>\n",
       "      <td>0</td>\n",
       "      <td>0</td>\n",
       "      <td>0</td>\n",
       "      <td>0</td>\n",
       "      <td>0</td>\n",
       "      <td>0</td>\n",
       "      <td>4280</td>\n",
       "    </tr>\n",
       "  </tbody>\n",
       "</table>\n",
       "<p>48343 rows × 25 columns</p>\n",
       "</div>"
      ],
      "text/plain": [
       "       bathrooms  bedrooms  interest_level              created  Elevator  \\\n",
       "0            1.0         1               1  2016-06-16 05:55:27         0   \n",
       "1            1.0         2               0  2016-06-01 05:44:33         1   \n",
       "2            1.0         2               1  2016-06-14 15:19:59         1   \n",
       "3            1.5         3               1  2016-06-24 07:54:24         0   \n",
       "4            1.0         0               0  2016-06-28 03:50:23         1   \n",
       "...          ...       ...             ...                  ...       ...   \n",
       "49347        1.0         3               0  2016-04-05 03:58:33         1   \n",
       "49348        1.0         2               1  2016-04-02 02:25:31         1   \n",
       "49349        1.0         1               1  2016-04-26 05:42:03         1   \n",
       "49350        1.0         2               1  2016-04-19 02:47:33         0   \n",
       "49351        1.0         3               2  2016-04-20 05:34:00         1   \n",
       "\n",
       "       Cats Allowed  Hardwood Floors  Dogs Allowed  Doorman  Dishwasher  ...  \\\n",
       "0                 1                1             1        0           1  ...   \n",
       "1                 0                1             0        1           1  ...   \n",
       "2                 0                1             0        1           1  ...   \n",
       "3                 0                0             0        0           0  ...   \n",
       "4                 0                0             0        1           0  ...   \n",
       "...             ...              ...           ...      ...         ...  ...   \n",
       "49347             0                1             0        0           1  ...   \n",
       "49348             1                0             1        1           0  ...   \n",
       "49349             1                1             1        0           1  ...   \n",
       "49350             0                0             0        0           1  ...   \n",
       "49351             0                1             0        0           1  ...   \n",
       "\n",
       "       Roof Deck  Outdoor Space  Dining Room  High Speed Internet  Balcony  \\\n",
       "0              0              0            1                    0        0   \n",
       "1              0              0            0                    0        0   \n",
       "2              0              0            0                    0        0   \n",
       "3              0              0            0                    0        0   \n",
       "4              0              0            0                    0        0   \n",
       "...          ...            ...          ...                  ...      ...   \n",
       "49347          0              0            0                    0        0   \n",
       "49348          0              1            0                    0        0   \n",
       "49349          0              0            1                    0        0   \n",
       "49350          0              1            0                    0        0   \n",
       "49351          0              0            1                    0        0   \n",
       "\n",
       "       Swimming Pool  Laundry In Building  New Construction  Terrace  price  \n",
       "0                  0                    0                 0        0   2400  \n",
       "1                  0                    0                 0        0   3800  \n",
       "2                  0                    0                 0        0   3495  \n",
       "3                  0                    0                 0        0   3000  \n",
       "4                  0                    0                 0        0   2795  \n",
       "...              ...                  ...               ...      ...    ...  \n",
       "49347              0                    0                 0        0   2800  \n",
       "49348              0                    1                 0        0   2395  \n",
       "49349              0                    0                 0        0   1850  \n",
       "49350              0                    0                 0        0   4195  \n",
       "49351              0                    0                 0        0   4280  \n",
       "\n",
       "[48343 rows x 25 columns]"
      ]
     },
     "execution_count": 10,
     "metadata": {},
     "output_type": "execute_result"
    }
   ],
   "source": [
    "all_data= data.loc[:, features + ['price']]\n",
    "all_data.reset_index(inplace=True, drop=True)\n",
    "low = all_data['price'].quantile(0.01)\n",
    "up = all_data['price'].quantile(0.99)\n",
    "cleaned_data = all_data[(all_data['price'] > low) & (all_data['price'] < up)].copy()\n",
    "cleaned_data"
   ]
  },
  {
   "cell_type": "markdown",
   "id": "e98f139c",
   "metadata": {},
   "source": [
    "# 3"
   ]
  },
  {
   "cell_type": "markdown",
   "id": "45b735f2",
   "metadata": {},
   "source": [
    "## Two random parts"
   ]
  },
  {
   "cell_type": "code",
   "execution_count": 11,
   "id": "0e3c24b5",
   "metadata": {},
   "outputs": [],
   "source": [
    "X= cleaned_data.drop('price', axis=1)\n",
    "y= cleaned_data['price']"
   ]
  },
  {
   "cell_type": "code",
   "execution_count": 12,
   "id": "ef8a9a9d",
   "metadata": {},
   "outputs": [
    {
     "name": "stdout",
     "output_type": "stream",
     "text": [
      "<class 'pandas.core.series.Series'>\n",
      "Index: 38674 entries, 44088 to 15631\n",
      "Series name: price\n",
      "Non-Null Count  Dtype\n",
      "--------------  -----\n",
      "38674 non-null  int64\n",
      "dtypes: int64(1)\n",
      "memory usage: 604.3 KB\n",
      "<class 'pandas.core.series.Series'>\n",
      "Index: 9669 entries, 15316 to 23189\n",
      "Series name: price\n",
      "Non-Null Count  Dtype\n",
      "--------------  -----\n",
      "9669 non-null   int64\n",
      "dtypes: int64(1)\n",
      "memory usage: 151.1 KB\n"
     ]
    }
   ],
   "source": [
    "def two_split(X, y, test_size = 0.2, random_state = 21):\n",
    "    X_train, X_test, y_train, y_test= train_test_split(X, y, test_size=test_size, random_state=random_state)\n",
    "    return X_train, X_test, y_train, y_test\n",
    "X_train, X_test, y_train, y_test= two_split(X, y)\n",
    "y_train.info()\n",
    "y_test.info()\n",
    "display()"
   ]
  },
  {
   "cell_type": "markdown",
   "id": "52235c64",
   "metadata": {},
   "source": [
    "## Three random parts"
   ]
  },
  {
   "cell_type": "code",
   "execution_count": 13,
   "id": "6bf63af9",
   "metadata": {},
   "outputs": [
    {
     "name": "stdout",
     "output_type": "stream",
     "text": [
      "<class 'pandas.core.series.Series'>\n",
      "Index: 29005 entries, 37782 to 4664\n",
      "Series name: price\n",
      "Non-Null Count  Dtype\n",
      "--------------  -----\n",
      "29005 non-null  int64\n",
      "dtypes: int64(1)\n",
      "memory usage: 453.2 KB\n",
      "<class 'pandas.core.series.Series'>\n",
      "Index: 9669 entries, 2224 to 14147\n",
      "Series name: price\n",
      "Non-Null Count  Dtype\n",
      "--------------  -----\n",
      "9669 non-null   int64\n",
      "dtypes: int64(1)\n",
      "memory usage: 151.1 KB\n",
      "<class 'pandas.core.series.Series'>\n",
      "Index: 9669 entries, 15316 to 23189\n",
      "Series name: price\n",
      "Non-Null Count  Dtype\n",
      "--------------  -----\n",
      "9669 non-null   int64\n",
      "dtypes: int64(1)\n",
      "memory usage: 151.1 KB\n"
     ]
    }
   ],
   "source": [
    "def three_split(X, y, test_size= 0.2, validation_size= 0.2, random_state= 21):\n",
    "    X_tmp, X_test, y_tmp, y_test= train_test_split(X, y, test_size= test_size, random_state= random_state)\n",
    "    X_train, X_val, y_train, y_val= train_test_split(X_tmp, y_tmp, test_size= validation_size / (1 - test_size), random_state= random_state)\n",
    "    return X_train, X_val, X_test, y_train, y_val, y_test\n",
    "X_train, X_val, X_test, y_train, y_val, y_test = three_split(X, y)\n",
    "y_train.info()\n",
    "y_val.info()\n",
    "y_test.info()"
   ]
  },
  {
   "cell_type": "markdown",
   "id": "2598e36e",
   "metadata": {},
   "source": [
    "## Dates split"
   ]
  },
  {
   "cell_type": "code",
   "execution_count": 14,
   "id": "8cf3a9c7",
   "metadata": {},
   "outputs": [],
   "source": [
    "def date_split(X, y, date_col, date_split):\n",
    "    train_mask= X[date_col] < date_split\n",
    "    test_mask= X[date_col] >= date_split\n",
    "\n",
    "    X_train, y_train= X[train_mask].copy(), y[train_mask]\n",
    "    X_test, y_test= X[test_mask].copy(), y[test_mask]\n",
    "\n",
    "    return X_train, X_test, y_train, y_test"
   ]
  },
  {
   "cell_type": "code",
   "execution_count": 15,
   "id": "9039cd60",
   "metadata": {},
   "outputs": [
    {
     "name": "stdout",
     "output_type": "stream",
     "text": [
      "(34871, 24) (13472, 24) (34871,) (13472,)\n"
     ]
    }
   ],
   "source": [
    "X_train, X_test, y_train, y_test = date_split(X, y, date_col= 'created', date_split='2016-06-06')\n",
    "print(X_train.shape, X_test.shape, y_train.shape, y_test.shape)"
   ]
  },
  {
   "cell_type": "code",
   "execution_count": 16,
   "id": "9f01739c",
   "metadata": {},
   "outputs": [],
   "source": [
    "def three_dates_split(X, y, date_column, validation_date, test_date):\n",
    "    train_mask= X[date_column] < validation_date\n",
    "    valid_mask= (X[date_column] >= validation_date) & (X[date_column] < test_date)\n",
    "    test_mask= X[date_column] >= test_date\n",
    "    \n",
    "    X_train, y_train= X[train_mask].copy(), y[train_mask]\n",
    "    X_val, y_val= X[valid_mask].copy(), y[valid_mask]\n",
    "    X_test, y_test= X[test_mask].copy(), y[test_mask]\n",
    "    return X_train, X_val, X_test, y_train, y_val, y_test"
   ]
  },
  {
   "cell_type": "code",
   "execution_count": 17,
   "id": "e2669bd4",
   "metadata": {},
   "outputs": [
    {
     "name": "stdout",
     "output_type": "stream",
     "text": [
      "(17722, 24) (17149, 24) (13472, 24) (17722,) (17149,) (13472,)\n"
     ]
    }
   ],
   "source": [
    "X_train, X_valid, X_test, y_train, y_valid, y_test = three_dates_split(X, y, date_column= 'created', validation_date='2016-05-05', test_date='2016-06-06')\n",
    "print(X_train.shape, X_valid.shape, X_test.shape, y_train.shape, y_valid.shape, y_test.shape)"
   ]
  },
  {
   "cell_type": "markdown",
   "id": "50a87cf1",
   "metadata": {},
   "source": [
    "Детерминированность означает, что функция всегда возвращает одинаковые результаты при одинаковых входных данных"
   ]
  },
  {
   "cell_type": "markdown",
   "id": "2fa07194",
   "metadata": {},
   "source": [
    "# 4,5"
   ]
  },
  {
   "cell_type": "code",
   "execution_count": 18,
   "id": "0c3d2d1e",
   "metadata": {},
   "outputs": [],
   "source": [
    "class MyKFold:\n",
    "    def __init__(self, k= 5):\n",
    "        if k < 2:\n",
    "            raise ValueError(\"k must be at least 2.\")\n",
    "        self.n_splits= k\n",
    "    def split(self, X):\n",
    "        n_samples= len(X)\n",
    "        idexes= np.arange(n_samples)\n",
    "        fold_size= n_samples // self.n_splits\n",
    "        for i in range(self.n_splits):\n",
    "            test_id= idexes[i * fold_size : (i+1) * fold_size]\n",
    "            train_id= np.setdiff1d(idexes, test_id)\n",
    "            yield train_id, test_id"
   ]
  },
  {
   "cell_type": "code",
   "execution_count": 19,
   "id": "77ef7f32",
   "metadata": {
    "scrolled": true
   },
   "outputs": [
    {
     "name": "stdout",
     "output_type": "stream",
     "text": [
      "Train: [ 9668  9669  9670 ... 48340 48341 48342], Test: [   0    1    2 ... 9665 9666 9667]\n",
      "Train: [    0     1     2 ... 48340 48341 48342], Test: [ 9668  9669  9670 ... 19333 19334 19335]\n",
      "Train: [    0     1     2 ... 48340 48341 48342], Test: [19336 19337 19338 ... 29001 29002 29003]\n",
      "Train: [    0     1     2 ... 48340 48341 48342], Test: [29004 29005 29006 ... 38669 38670 38671]\n",
      "Train: [    0     1     2 ... 48340 48341 48342], Test: [38672 38673 38674 ... 48337 48338 48339]\n"
     ]
    }
   ],
   "source": [
    "kf = MyKFold()\n",
    "\n",
    "for train_id, test_id in kf.split(X):\n",
    "    print(f\"Train: {train_id}, Test: {test_id}\")\n"
   ]
  },
  {
   "cell_type": "code",
   "execution_count": 20,
   "id": "0ef96592",
   "metadata": {},
   "outputs": [
    {
     "name": "stdout",
     "output_type": "stream",
     "text": [
      "Train: [ 9669  9670  9671 ... 48340 48341 48342], Test: [   0    1    2 ... 9666 9667 9668]\n",
      "Train: [    0     1     2 ... 48340 48341 48342], Test: [ 9669  9670  9671 ... 19335 19336 19337]\n",
      "Train: [    0     1     2 ... 48340 48341 48342], Test: [19338 19339 19340 ... 29004 29005 29006]\n",
      "Train: [    0     1     2 ... 48340 48341 48342], Test: [29007 29008 29009 ... 38672 38673 38674]\n",
      "Train: [    0     1     2 ... 38672 38673 38674], Test: [38675 38676 38677 ... 48340 48341 48342]\n"
     ]
    }
   ],
   "source": [
    "sk_kf = KFold()\n",
    "for train_id, test_id in sk_kf.split(X):\n",
    "    print(f\"Train: {train_id}, Test: {test_id}\")"
   ]
  },
  {
   "cell_type": "code",
   "execution_count": 21,
   "id": "6d775af9",
   "metadata": {},
   "outputs": [],
   "source": [
    "class MyGroupKFold:\n",
    "    def __init__(self, k=3):\n",
    "        if k < 2:\n",
    "            raise ValueError(\"k must be at least 2.\")\n",
    "        self.n_splits= k\n",
    "    def split(self, X, group_field): \n",
    "        indices = np.arange(len(X))\n",
    "        unique_groups = np.unique(group_field)\n",
    "        for i in range(self.n_splits):\n",
    "            test_groups = unique_groups[i * len(unique_groups) // self.n_splits : (i + 1) * len(unique_groups) // self.n_splits]\n",
    "            test_id = np.where(np.isin(group_field, test_groups))[0]\n",
    "            train_id = np.setdiff1d(indices, test_id)\n",
    "            yield train_id, test_id"
   ]
  },
  {
   "cell_type": "code",
   "execution_count": 22,
   "id": "3ed54abc",
   "metadata": {},
   "outputs": [
    {
     "name": "stdout",
     "output_type": "stream",
     "text": [
      "Train: [    0     2     3 ... 48340 48341 48342], Test: [    1     4     5 ... 48336 48337 48338]\n",
      "Train: [    1     4     5 ... 48337 48338 48342], Test: [    0     2     3 ... 48339 48340 48341]\n",
      "Train: [    0     1     2 ... 48339 48340 48341], Test: [    7    17    31 ... 48303 48332 48342]\n"
     ]
    }
   ],
   "source": [
    "groupkf = MyGroupKFold()\n",
    "for train_id, test_id in groupkf.split(X, group_field=X['interest_level']):\n",
    "    print(f\"Train: {train_id}, Test: {test_id}\")"
   ]
  },
  {
   "cell_type": "code",
   "execution_count": 23,
   "id": "64f9018e",
   "metadata": {},
   "outputs": [
    {
     "name": "stdout",
     "output_type": "stream",
     "text": [
      "Train: [    0     2     3 ... 48340 48341 48342], Test: [    1     4     5 ... 48336 48337 48338]\n",
      "Train: [    1     4     5 ... 48337 48338 48342], Test: [    0     2     3 ... 48339 48340 48341]\n",
      "Train: [    0     1     2 ... 48339 48340 48341], Test: [    7    17    31 ... 48303 48332 48342]\n"
     ]
    }
   ],
   "source": [
    "sk_gkf = GroupKFold(n_splits=3)\n",
    "for train_id, test_id in sk_gkf.split(X, groups=X['interest_level']):\n",
    "    print(f\"Train: {train_id}, Test: {test_id}\")"
   ]
  },
  {
   "cell_type": "code",
   "execution_count": 24,
   "id": "6e4595f5",
   "metadata": {},
   "outputs": [],
   "source": [
    "class MyStratifiedKFold:\n",
    "    def __init__(self, k=3):\n",
    "        if k < 2:\n",
    "            raise ValueError(\"k must be at least 2.\")\n",
    "        self.n_splits = k\n",
    "        \n",
    "    def split(self, X, stratify_field):\n",
    "        unique_classes = np.unique(stratify_field)\n",
    "        for i in range(self.n_splits):\n",
    "            test_index = []\n",
    "            train_index = []\n",
    "            for cls in unique_classes:\n",
    "                cls_indices = np.where(stratify_field == cls)[0]\n",
    "                fold_size = len(cls_indices) // self.n_splits\n",
    "        \n",
    "                test_cls_indices = cls_indices[i * fold_size: (i + 1) * fold_size]\n",
    "                train_cls_indices = np.setdiff1d(cls_indices, test_cls_indices)\n",
    "                \n",
    "                test_index.extend(test_cls_indices)\n",
    "                train_index.extend(train_cls_indices)\n",
    "                \n",
    "            yield np.sort(train_index), np.sort(test_index)"
   ]
  },
  {
   "cell_type": "code",
   "execution_count": 25,
   "id": "c4756736",
   "metadata": {},
   "outputs": [
    {
     "name": "stdout",
     "output_type": "stream",
     "text": [
      "Train: [ 9563  9564  9565 ... 48340 48341 48342], Test: [   0    1    2 ... 9956 9959 9966]\n",
      "Train: [    0     1     2 ... 48340 48341 48342], Test: [ 9563  9564  9565 ... 19661 19664 19672]\n",
      "Train: [    0     1     2 ... 48340 48341 48342], Test: [19196 19199 19201 ... 29171 29175 29176]\n",
      "Train: [    0     1     2 ... 48340 48341 48342], Test: [28930 28936 28937 ... 38699 38700 38701]\n",
      "Train: [    0     1     2 ... 48340 48341 48342], Test: [38236 38237 38246 ... 48333 48334 48336]\n"
     ]
    }
   ],
   "source": [
    "stratifiedkfold = MyStratifiedKFold(k=5)\n",
    "for train_id, test_id in stratifiedkfold.split(X, X['interest_level']):\n",
    "    print(f\"Train: {train_id}, Test: {test_id}\")"
   ]
  },
  {
   "cell_type": "code",
   "execution_count": 26,
   "id": "a4dff5cd",
   "metadata": {},
   "outputs": [
    {
     "name": "stdout",
     "output_type": "stream",
     "text": [
      "Train: [ 9564  9565  9566 ... 48340 48341 48342], Test: [   0    1    2 ... 9959 9966 9970]\n",
      "Train: [    0     1     2 ... 48340 48341 48342], Test: [ 9564  9565  9566 ... 19672 19679 19680]\n",
      "Train: [    0     1     2 ... 48340 48341 48342], Test: [19199 19201 19202 ... 29180 29182 29187]\n",
      "Train: [    0     1     2 ... 48340 48341 48342], Test: [28936 28937 28938 ... 38715 38721 38726]\n",
      "Train: [    0     1     2 ... 38715 38721 38726], Test: [38246 38286 38298 ... 48340 48341 48342]\n"
     ]
    }
   ],
   "source": [
    "sk_skf = StratifiedKFold()\n",
    "for train_id, test_id in sk_skf.split(X, X['interest_level']):\n",
    "    print(f\"Train: {train_id}, Test: {test_id}\")"
   ]
  },
  {
   "cell_type": "code",
   "execution_count": 27,
   "id": "406ec8b8",
   "metadata": {},
   "outputs": [],
   "source": [
    "class MyTimeSeriesSplit:\n",
    "    def __init__(self, k= 4):\n",
    "        if k < 2:\n",
    "            raise ValueError(\"k must be at least 2.\")\n",
    "        self.n_splits = k\n",
    "    def split(self, X, date_field):\n",
    "        X_sorted = X.sort_values(by=date_field)\n",
    "        n_samles = len(X_sorted)\n",
    "        min_train_size = int(n_samles * 0.2)\n",
    "        indices = np.arange(n_samles)\n",
    "        fold_size = (n_samles - min_train_size) // self.n_splits\n",
    "        if fold_size == 0:\n",
    "            raise ValueError(\"Too much folds for this data\")\n",
    "            \n",
    "        for i in range(self.n_splits):\n",
    "            start = min_train_size + i * fold_size\n",
    "            stop = min_train_size + (i + 1) * fold_size if i != self.n_splits - 1 else n_samles\n",
    "            test_id = indices[start:stop]\n",
    "            train_id = indices[:start]\n",
    "            yield train_id, test_id"
   ]
  },
  {
   "cell_type": "code",
   "execution_count": 28,
   "id": "83cd3518",
   "metadata": {},
   "outputs": [
    {
     "name": "stdout",
     "output_type": "stream",
     "text": [
      "Train: [   0    1    2 ... 9665 9666 9667], Test: [ 9668  9669  9670 ... 19333 19334 19335]\n",
      "Train: [    0     1     2 ... 19333 19334 19335], Test: [19336 19337 19338 ... 29001 29002 29003]\n",
      "Train: [    0     1     2 ... 29001 29002 29003], Test: [29004 29005 29006 ... 38669 38670 38671]\n",
      "Train: [    0     1     2 ... 38669 38670 38671], Test: [38672 38673 38674 ... 48340 48341 48342]\n"
     ]
    }
   ],
   "source": [
    "myts = MyTimeSeriesSplit()\n",
    "for train_id, test_id in myts.split(X, date_field = 'created'):\n",
    "    print(f\"Train: {(train_id)}, Test: {test_id}\")"
   ]
  },
  {
   "cell_type": "code",
   "execution_count": 29,
   "id": "64b4af31",
   "metadata": {},
   "outputs": [
    {
     "name": "stdout",
     "output_type": "stream",
     "text": [
      "Train: [   0    1    2 ... 9668 9669 9670], Test: [ 9671  9672  9673 ... 19336 19337 19338]\n",
      "Train: [    0     1     2 ... 19336 19337 19338], Test: [19339 19340 19341 ... 29004 29005 29006]\n",
      "Train: [    0     1     2 ... 29004 29005 29006], Test: [29007 29008 29009 ... 38672 38673 38674]\n",
      "Train: [    0     1     2 ... 38672 38673 38674], Test: [38675 38676 38677 ... 48340 48341 48342]\n"
     ]
    }
   ],
   "source": [
    "sk_tss = TimeSeriesSplit(n_splits=4)\n",
    "for train_id, test_id in sk_tss.split(X, X['created']):\n",
    "    print(f\"Train: {(train_id)}, Test: {test_id}\")"
   ]
  },
  {
   "cell_type": "markdown",
   "id": "203b6774",
   "metadata": {},
   "source": [
    "K fold good for our aim. But if we had a big distribution of target value, stratified k fold will be beter"
   ]
  },
  {
   "cell_type": "markdown",
   "id": "7dae104b",
   "metadata": {},
   "source": [
    "# 6"
   ]
  },
  {
   "cell_type": "code",
   "execution_count": 30,
   "id": "c1ccd0e0",
   "metadata": {},
   "outputs": [],
   "source": [
    "X= cleaned_data.drop(['created','price'], axis=1)\n",
    "X_train, X_val, X_test, y_train, y_val, y_test = three_split(X, y)"
   ]
  },
  {
   "cell_type": "code",
   "execution_count": 31,
   "id": "0c63f2d9",
   "metadata": {
    "scrolled": true
   },
   "outputs": [
    {
     "name": "stdout",
     "output_type": "stream",
     "text": [
      "Best alpha: 0.9484269511064273\n",
      "Coefficients: [1510.13821365  470.80671035 -421.89421329  212.9136184    -5.37815217\n",
      " -114.16670549   79.45781212  524.82035797  141.36955146  -92.05328018\n",
      " -163.24400675  211.27226192  -43.37725471  437.0392935  -127.66814123\n",
      "  -57.57824216   94.51672368 -153.68701259  -33.68556827   43.74304983\n",
      " -162.77465736  -72.9536528   139.76059722]\n"
     ]
    }
   ],
   "source": [
    "lasso_cv = LassoCV(cv=10)\n",
    "lasso_cv.fit(X_train, y_train)\n",
    "print(f'Best alpha: {lasso_cv.alpha_}')\n",
    "print(f'Coefficients: {lasso_cv.coef_}')"
   ]
  },
  {
   "cell_type": "code",
   "execution_count": 32,
   "id": "167ba0b6",
   "metadata": {},
   "outputs": [
    {
     "data": {
      "text/plain": [
       "array([ 0,  7,  1, 13,  2,  3, 11, 10, 20, 17], dtype=int64)"
      ]
     },
     "execution_count": 32,
     "metadata": {},
     "output_type": "execute_result"
    }
   ],
   "source": [
    "coefs = np.abs(lasso_cv.coef_)\n",
    "ind = np.argsort(coefs)[::-1]\n",
    "top_10 = ind[:10]\n",
    "top_10"
   ]
  },
  {
   "cell_type": "code",
   "execution_count": 33,
   "id": "997c680f",
   "metadata": {},
   "outputs": [],
   "source": [
    "X_train_10= X_train.iloc[:, top_10]\n",
    "X_val_10= X_val.iloc[:, top_10]\n",
    "X_test_10= X_test.iloc[:, top_10]\n"
   ]
  },
  {
   "cell_type": "code",
   "execution_count": 34,
   "id": "298c9105",
   "metadata": {},
   "outputs": [],
   "source": [
    "metrics = pd.DataFrame(columns=['name', 'DS_name', 'R2', 'MAE', 'RMSE'])\n",
    "def write_metrics(model, name, X_train, X_val, X_test):\n",
    "    y_pred_train = model.predict(X_train)\n",
    "    y_pred_valid = model.predict(X_val)\n",
    "    y_pred_test = model.predict(X_test)\n",
    "\n",
    "    r2_metrics = {'train': r2_score(y_train, y_pred_train),\n",
    "                  'valid': r2_score(y_val, y_pred_valid),\n",
    "                  'test': r2_score(y_test, y_pred_test)}\n",
    "    \n",
    "    mae_metrics = {'train': mean_absolute_error(y_train, y_pred_train),\n",
    "                   'valid': mean_absolute_error(y_val, y_pred_valid),\n",
    "                   'test': mean_absolute_error(y_test, y_pred_test)}\n",
    "    \n",
    "    rmse_metrics = {'train': np.sqrt(mean_squared_error(y_train, y_pred_train)),\n",
    "                    'valid': np.sqrt(mean_squared_error(y_val, y_pred_valid)),\n",
    "                    'test': np.sqrt(mean_squared_error(y_test, y_pred_test))}\n",
    "    for ds_name in ['train', 'valid', 'test']:\n",
    "        metrics.loc[len(metrics)] = [name, ds_name, r2_metrics[ds_name], mae_metrics[ds_name], rmse_metrics[ds_name]]"
   ]
  },
  {
   "cell_type": "code",
   "execution_count": 35,
   "id": "2fe1023e",
   "metadata": {},
   "outputs": [],
   "source": [
    "lasso_10 = LassoCV(cv=10)\n",
    "lasso_10.fit(X_train_10, y_train)\n",
    "write_metrics(lasso_10, 'X_train_10', X_train_10, X_val_10, X_test_10)"
   ]
  },
  {
   "cell_type": "code",
   "execution_count": 36,
   "id": "a3cc25e0",
   "metadata": {},
   "outputs": [
    {
     "name": "stdout",
     "output_type": "stream",
     "text": [
      "['bathrooms', 'bedrooms', 'Doorman', 'Laundry in Unit', 'Fitness Center', 'Dishwasher', 'Dining Room', 'Elevator', 'Outdoor Space', 'Laundry in Building']\n"
     ]
    }
   ],
   "source": [
    "corr_matrix = cleaned_data.drop('created', axis=1).corr()\n",
    "corr_matrix = corr_matrix.sort_values(by='price', ascending=False)\n",
    "top_10_corr = corr_matrix.index[1:11].tolist()\n",
    "print(top_10_corr)"
   ]
  },
  {
   "cell_type": "markdown",
   "id": "9a911e75",
   "metadata": {},
   "source": [
    "### Implement method for simple feature selection by nan-ratio in feature and correlation. Apply this method to feature set and take top 10 features, refit model and measure quality."
   ]
  },
  {
   "cell_type": "code",
   "execution_count": 37,
   "id": "ec6ffa38",
   "metadata": {},
   "outputs": [],
   "source": [
    "def select_by_miss_and_corr(X, y, top=10):\n",
    "    miss= X.isna().mean()\n",
    "    data= pd.concat([X.reset_index(drop=True), y.reset_index(drop=True)], axis=1)\n",
    "    corr_with_target = data.corr().iloc[:-1, -1]\n",
    "\n",
    "    scores = pd.DataFrame({\n",
    "        'missing': miss,\n",
    "        'correlation': corr_with_target.abs()\n",
    "    })\n",
    "    scores['score'] = scores['correlation'] / (1 + scores['missing'])\n",
    "\n",
    "    return scores.sort_values(by='score', ascending=False).head(top).index.tolist()"
   ]
  },
  {
   "cell_type": "code",
   "execution_count": 38,
   "id": "2c65511c",
   "metadata": {},
   "outputs": [
    {
     "data": {
      "text/plain": [
       "['bathrooms',\n",
       " 'bedrooms',\n",
       " 'Doorman',\n",
       " 'Laundry in Unit',\n",
       " 'Fitness Center',\n",
       " 'Dishwasher',\n",
       " 'Dining Room',\n",
       " 'Elevator',\n",
       " 'interest_level',\n",
       " 'Laundry in Building']"
      ]
     },
     "execution_count": 38,
     "metadata": {},
     "output_type": "execute_result"
    }
   ],
   "source": [
    "top_10_corr = select_by_miss_and_corr(X_train, y_train)\n",
    "top_10_corr"
   ]
  },
  {
   "cell_type": "code",
   "execution_count": 39,
   "id": "d49f7dc5",
   "metadata": {},
   "outputs": [],
   "source": [
    "X_train_corr = X_train.loc[:, top_10_corr]\n",
    "X_valid_corr = X_val.loc[:, top_10_corr]\n",
    "X_test_corr = X_test.loc[:, top_10_corr]"
   ]
  },
  {
   "cell_type": "code",
   "execution_count": 40,
   "id": "a9ec6591",
   "metadata": {},
   "outputs": [],
   "source": [
    "lasso_corr = LassoCV(cv=10)\n",
    "lasso_corr.fit(X_train_corr, y_train)\n",
    "write_metrics(lasso_corr, 'X_train_corr', X_train_corr, X_valid_corr, X_test_corr)"
   ]
  },
  {
   "cell_type": "markdown",
   "id": "cbd97416",
   "metadata": {},
   "source": [
    "### Implement permutation importance method and take top 10 features, refit model and measure quality"
   ]
  },
  {
   "cell_type": "code",
   "execution_count": 41,
   "id": "d3263304",
   "metadata": {},
   "outputs": [],
   "source": [
    "def get_top_permutation(model, X, y):\n",
    "    result = permutation_importance(model, X, y, n_repeats=10, random_state=21, scoring=\"neg_mean_squared_error\")\n",
    "    importance = np.argsort(result.importances_mean)[::-1] \n",
    "    return importance.tolist()[:10]"
   ]
  },
  {
   "cell_type": "code",
   "execution_count": 42,
   "id": "8ad15171",
   "metadata": {},
   "outputs": [
    {
     "data": {
      "text/plain": [
       "[0, 1, 2, 7, 13, 3, 11, 10, 8, 5]"
      ]
     },
     "execution_count": 42,
     "metadata": {},
     "output_type": "execute_result"
    }
   ],
   "source": [
    "lasso_perm = LassoCV(cv=10)\n",
    "lasso_perm.fit(X_train, y_train)\n",
    "top_10_perm = get_top_permutation(lasso_perm, X_train, y_train)\n",
    "top_10_perm"
   ]
  },
  {
   "cell_type": "code",
   "execution_count": 43,
   "id": "5d2df3b5",
   "metadata": {},
   "outputs": [],
   "source": [
    "X_train_perm = X_train.iloc[:, top_10_perm]\n",
    "X_val_perm = X_val.iloc[:, top_10_perm]\n",
    "X_test_perm = X_test.iloc[:, top_10_perm]"
   ]
  },
  {
   "cell_type": "code",
   "execution_count": 44,
   "id": "a5e80830",
   "metadata": {},
   "outputs": [],
   "source": [
    "lasso_perm.fit(X_train_perm, y_train)\n",
    "write_metrics(lasso_perm, 'X_train_perm', X_train_perm, X_val_perm, X_test_perm)"
   ]
  },
  {
   "cell_type": "markdown",
   "id": "cd604ebc",
   "metadata": {},
   "source": [
    "### Импортируйте Shap, а также перестройте модель на основе 10 основных признаков."
   ]
  },
  {
   "cell_type": "code",
   "execution_count": 45,
   "id": "53238da3",
   "metadata": {},
   "outputs": [
    {
     "data": {
      "text/plain": [
       "[0, 1, 7, 2, 13, 3, 11, 10, 8, 5]"
      ]
     },
     "execution_count": 45,
     "metadata": {},
     "output_type": "execute_result"
    }
   ],
   "source": [
    "lasso_shap = LassoCV(cv=10)\n",
    "lasso_shap.fit(X_train, y_train)\n",
    "explainer = shap.Explainer(lasso_shap, X_val)\n",
    "shap_values = explainer(X_val)\n",
    "importance_values = np.abs(shap_values.values).mean(axis=0)\n",
    "top_shap = np.argsort(importance_values)[::-1][:10].tolist()\n",
    "top_shap"
   ]
  },
  {
   "cell_type": "code",
   "execution_count": 46,
   "id": "6d276eb1",
   "metadata": {},
   "outputs": [],
   "source": [
    "X_train_shap = X_train.iloc[:, top_shap]\n",
    "X_val_shap = X_val.iloc[:, top_shap]\n",
    "X_test_shap = X_test.iloc[:, top_shap]\n",
    "lasso_shap_10 = LassoCV(cv=10)\n",
    "lasso_shap_10.fit(X_train_shap, y_train)\n",
    "write_metrics(lasso_shap_10, 'X_train_shap', X_train_shap, X_val_shap, X_test_shap)"
   ]
  },
  {
   "cell_type": "markdown",
   "id": "e655a799",
   "metadata": {},
   "source": [
    "### Compare"
   ]
  },
  {
   "cell_type": "code",
   "execution_count": 47,
   "id": "6794c614",
   "metadata": {},
   "outputs": [
    {
     "data": {
      "text/html": [
       "<div>\n",
       "<style scoped>\n",
       "    .dataframe tbody tr th:only-of-type {\n",
       "        vertical-align: middle;\n",
       "    }\n",
       "\n",
       "    .dataframe tbody tr th {\n",
       "        vertical-align: top;\n",
       "    }\n",
       "\n",
       "    .dataframe thead th {\n",
       "        text-align: right;\n",
       "    }\n",
       "</style>\n",
       "<table border=\"1\" class=\"dataframe\">\n",
       "  <thead>\n",
       "    <tr style=\"text-align: right;\">\n",
       "      <th></th>\n",
       "      <th>name</th>\n",
       "      <th>DS_name</th>\n",
       "      <th>R2</th>\n",
       "      <th>MAE</th>\n",
       "      <th>RMSE</th>\n",
       "    </tr>\n",
       "  </thead>\n",
       "  <tbody>\n",
       "    <tr>\n",
       "      <th>0</th>\n",
       "      <td>X_train_10</td>\n",
       "      <td>train</td>\n",
       "      <td>0.597708</td>\n",
       "      <td>688.487584</td>\n",
       "      <td>997.536548</td>\n",
       "    </tr>\n",
       "    <tr>\n",
       "      <th>1</th>\n",
       "      <td>X_train_10</td>\n",
       "      <td>valid</td>\n",
       "      <td>0.597577</td>\n",
       "      <td>693.440925</td>\n",
       "      <td>1017.134640</td>\n",
       "    </tr>\n",
       "    <tr>\n",
       "      <th>2</th>\n",
       "      <td>X_train_10</td>\n",
       "      <td>test</td>\n",
       "      <td>0.611971</td>\n",
       "      <td>691.971388</td>\n",
       "      <td>1000.430892</td>\n",
       "    </tr>\n",
       "    <tr>\n",
       "      <th>3</th>\n",
       "      <td>X_train_corr</td>\n",
       "      <td>train</td>\n",
       "      <td>0.596291</td>\n",
       "      <td>690.460349</td>\n",
       "      <td>999.291887</td>\n",
       "    </tr>\n",
       "    <tr>\n",
       "      <th>4</th>\n",
       "      <td>X_train_corr</td>\n",
       "      <td>valid</td>\n",
       "      <td>0.596090</td>\n",
       "      <td>694.965709</td>\n",
       "      <td>1019.012515</td>\n",
       "    </tr>\n",
       "    <tr>\n",
       "      <th>5</th>\n",
       "      <td>X_train_corr</td>\n",
       "      <td>test</td>\n",
       "      <td>0.610007</td>\n",
       "      <td>694.539810</td>\n",
       "      <td>1002.959246</td>\n",
       "    </tr>\n",
       "    <tr>\n",
       "      <th>6</th>\n",
       "      <td>X_train_perm</td>\n",
       "      <td>train</td>\n",
       "      <td>0.597274</td>\n",
       "      <td>688.561811</td>\n",
       "      <td>998.074835</td>\n",
       "    </tr>\n",
       "    <tr>\n",
       "      <th>7</th>\n",
       "      <td>X_train_perm</td>\n",
       "      <td>valid</td>\n",
       "      <td>0.596579</td>\n",
       "      <td>694.295245</td>\n",
       "      <td>1018.395191</td>\n",
       "    </tr>\n",
       "    <tr>\n",
       "      <th>8</th>\n",
       "      <td>X_train_perm</td>\n",
       "      <td>test</td>\n",
       "      <td>0.610312</td>\n",
       "      <td>692.804843</td>\n",
       "      <td>1002.567229</td>\n",
       "    </tr>\n",
       "    <tr>\n",
       "      <th>9</th>\n",
       "      <td>X_train_shap</td>\n",
       "      <td>train</td>\n",
       "      <td>0.597274</td>\n",
       "      <td>688.561403</td>\n",
       "      <td>998.074843</td>\n",
       "    </tr>\n",
       "    <tr>\n",
       "      <th>10</th>\n",
       "      <td>X_train_shap</td>\n",
       "      <td>valid</td>\n",
       "      <td>0.596579</td>\n",
       "      <td>694.294885</td>\n",
       "      <td>1018.395322</td>\n",
       "    </tr>\n",
       "    <tr>\n",
       "      <th>11</th>\n",
       "      <td>X_train_shap</td>\n",
       "      <td>test</td>\n",
       "      <td>0.610312</td>\n",
       "      <td>692.804454</td>\n",
       "      <td>1002.567261</td>\n",
       "    </tr>\n",
       "  </tbody>\n",
       "</table>\n",
       "</div>"
      ],
      "text/plain": [
       "            name DS_name        R2         MAE         RMSE\n",
       "0     X_train_10   train  0.597708  688.487584   997.536548\n",
       "1     X_train_10   valid  0.597577  693.440925  1017.134640\n",
       "2     X_train_10    test  0.611971  691.971388  1000.430892\n",
       "3   X_train_corr   train  0.596291  690.460349   999.291887\n",
       "4   X_train_corr   valid  0.596090  694.965709  1019.012515\n",
       "5   X_train_corr    test  0.610007  694.539810  1002.959246\n",
       "6   X_train_perm   train  0.597274  688.561811   998.074835\n",
       "7   X_train_perm   valid  0.596579  694.295245  1018.395191\n",
       "8   X_train_perm    test  0.610312  692.804843  1002.567229\n",
       "9   X_train_shap   train  0.597274  688.561403   998.074843\n",
       "10  X_train_shap   valid  0.596579  694.294885  1018.395322\n",
       "11  X_train_shap    test  0.610312  692.804454  1002.567261"
      ]
     },
     "execution_count": 47,
     "metadata": {},
     "output_type": "execute_result"
    }
   ],
   "source": [
    "metrics"
   ]
  },
  {
   "cell_type": "code",
   "execution_count": 48,
   "id": "f54c3653",
   "metadata": {},
   "outputs": [
    {
     "data": {
      "text/html": [
       "<div>\n",
       "<style scoped>\n",
       "    .dataframe tbody tr th:only-of-type {\n",
       "        vertical-align: middle;\n",
       "    }\n",
       "\n",
       "    .dataframe tbody tr th {\n",
       "        vertical-align: top;\n",
       "    }\n",
       "\n",
       "    .dataframe thead th {\n",
       "        text-align: right;\n",
       "    }\n",
       "</style>\n",
       "<table border=\"1\" class=\"dataframe\">\n",
       "  <thead>\n",
       "    <tr style=\"text-align: right;\">\n",
       "      <th></th>\n",
       "      <th>name</th>\n",
       "      <th>DS_name</th>\n",
       "      <th>R2</th>\n",
       "      <th>MAE</th>\n",
       "      <th>RMSE</th>\n",
       "    </tr>\n",
       "  </thead>\n",
       "  <tbody>\n",
       "    <tr>\n",
       "      <th>2</th>\n",
       "      <td>X_train_10</td>\n",
       "      <td>test</td>\n",
       "      <td>0.611971</td>\n",
       "      <td>691.971388</td>\n",
       "      <td>1000.430892</td>\n",
       "    </tr>\n",
       "    <tr>\n",
       "      <th>8</th>\n",
       "      <td>X_train_perm</td>\n",
       "      <td>test</td>\n",
       "      <td>0.610312</td>\n",
       "      <td>692.804843</td>\n",
       "      <td>1002.567229</td>\n",
       "    </tr>\n",
       "    <tr>\n",
       "      <th>11</th>\n",
       "      <td>X_train_shap</td>\n",
       "      <td>test</td>\n",
       "      <td>0.610312</td>\n",
       "      <td>692.804454</td>\n",
       "      <td>1002.567261</td>\n",
       "    </tr>\n",
       "    <tr>\n",
       "      <th>5</th>\n",
       "      <td>X_train_corr</td>\n",
       "      <td>test</td>\n",
       "      <td>0.610007</td>\n",
       "      <td>694.539810</td>\n",
       "      <td>1002.959246</td>\n",
       "    </tr>\n",
       "    <tr>\n",
       "      <th>0</th>\n",
       "      <td>X_train_10</td>\n",
       "      <td>train</td>\n",
       "      <td>0.597708</td>\n",
       "      <td>688.487584</td>\n",
       "      <td>997.536548</td>\n",
       "    </tr>\n",
       "    <tr>\n",
       "      <th>1</th>\n",
       "      <td>X_train_10</td>\n",
       "      <td>valid</td>\n",
       "      <td>0.597577</td>\n",
       "      <td>693.440925</td>\n",
       "      <td>1017.134640</td>\n",
       "    </tr>\n",
       "    <tr>\n",
       "      <th>6</th>\n",
       "      <td>X_train_perm</td>\n",
       "      <td>train</td>\n",
       "      <td>0.597274</td>\n",
       "      <td>688.561811</td>\n",
       "      <td>998.074835</td>\n",
       "    </tr>\n",
       "    <tr>\n",
       "      <th>9</th>\n",
       "      <td>X_train_shap</td>\n",
       "      <td>train</td>\n",
       "      <td>0.597274</td>\n",
       "      <td>688.561403</td>\n",
       "      <td>998.074843</td>\n",
       "    </tr>\n",
       "    <tr>\n",
       "      <th>7</th>\n",
       "      <td>X_train_perm</td>\n",
       "      <td>valid</td>\n",
       "      <td>0.596579</td>\n",
       "      <td>694.295245</td>\n",
       "      <td>1018.395191</td>\n",
       "    </tr>\n",
       "    <tr>\n",
       "      <th>10</th>\n",
       "      <td>X_train_shap</td>\n",
       "      <td>valid</td>\n",
       "      <td>0.596579</td>\n",
       "      <td>694.294885</td>\n",
       "      <td>1018.395322</td>\n",
       "    </tr>\n",
       "    <tr>\n",
       "      <th>3</th>\n",
       "      <td>X_train_corr</td>\n",
       "      <td>train</td>\n",
       "      <td>0.596291</td>\n",
       "      <td>690.460349</td>\n",
       "      <td>999.291887</td>\n",
       "    </tr>\n",
       "    <tr>\n",
       "      <th>4</th>\n",
       "      <td>X_train_corr</td>\n",
       "      <td>valid</td>\n",
       "      <td>0.596090</td>\n",
       "      <td>694.965709</td>\n",
       "      <td>1019.012515</td>\n",
       "    </tr>\n",
       "  </tbody>\n",
       "</table>\n",
       "</div>"
      ],
      "text/plain": [
       "            name DS_name        R2         MAE         RMSE\n",
       "2     X_train_10    test  0.611971  691.971388  1000.430892\n",
       "8   X_train_perm    test  0.610312  692.804843  1002.567229\n",
       "11  X_train_shap    test  0.610312  692.804454  1002.567261\n",
       "5   X_train_corr    test  0.610007  694.539810  1002.959246\n",
       "0     X_train_10   train  0.597708  688.487584   997.536548\n",
       "1     X_train_10   valid  0.597577  693.440925  1017.134640\n",
       "6   X_train_perm   train  0.597274  688.561811   998.074835\n",
       "9   X_train_shap   train  0.597274  688.561403   998.074843\n",
       "7   X_train_perm   valid  0.596579  694.295245  1018.395191\n",
       "10  X_train_shap   valid  0.596579  694.294885  1018.395322\n",
       "3   X_train_corr   train  0.596291  690.460349   999.291887\n",
       "4   X_train_corr   valid  0.596090  694.965709  1019.012515"
      ]
     },
     "execution_count": 48,
     "metadata": {},
     "output_type": "execute_result"
    }
   ],
   "source": [
    "metrics.sort_values(by= ['R2', 'RMSE', 'MAE'], ascending=[False, True, True])"
   ]
  },
  {
   "cell_type": "markdown",
   "id": "c0e89792",
   "metadata": {},
   "source": [
    "# 7 Giperparams"
   ]
  },
  {
   "cell_type": "markdown",
   "id": "abb02888",
   "metadata": {},
   "source": [
    "## GridSearch"
   ]
  },
  {
   "cell_type": "code",
   "execution_count": 49,
   "id": "4ae8bb46",
   "metadata": {},
   "outputs": [
    {
     "data": {
      "text/html": [
       "<style>#sk-container-id-1 {color: black;}#sk-container-id-1 pre{padding: 0;}#sk-container-id-1 div.sk-toggleable {background-color: white;}#sk-container-id-1 label.sk-toggleable__label {cursor: pointer;display: block;width: 100%;margin-bottom: 0;padding: 0.3em;box-sizing: border-box;text-align: center;}#sk-container-id-1 label.sk-toggleable__label-arrow:before {content: \"▸\";float: left;margin-right: 0.25em;color: #696969;}#sk-container-id-1 label.sk-toggleable__label-arrow:hover:before {color: black;}#sk-container-id-1 div.sk-estimator:hover label.sk-toggleable__label-arrow:before {color: black;}#sk-container-id-1 div.sk-toggleable__content {max-height: 0;max-width: 0;overflow: hidden;text-align: left;background-color: #f0f8ff;}#sk-container-id-1 div.sk-toggleable__content pre {margin: 0.2em;color: black;border-radius: 0.25em;background-color: #f0f8ff;}#sk-container-id-1 input.sk-toggleable__control:checked~div.sk-toggleable__content {max-height: 200px;max-width: 100%;overflow: auto;}#sk-container-id-1 input.sk-toggleable__control:checked~label.sk-toggleable__label-arrow:before {content: \"▾\";}#sk-container-id-1 div.sk-estimator input.sk-toggleable__control:checked~label.sk-toggleable__label {background-color: #d4ebff;}#sk-container-id-1 div.sk-label input.sk-toggleable__control:checked~label.sk-toggleable__label {background-color: #d4ebff;}#sk-container-id-1 input.sk-hidden--visually {border: 0;clip: rect(1px 1px 1px 1px);clip: rect(1px, 1px, 1px, 1px);height: 1px;margin: -1px;overflow: hidden;padding: 0;position: absolute;width: 1px;}#sk-container-id-1 div.sk-estimator {font-family: monospace;background-color: #f0f8ff;border: 1px dotted black;border-radius: 0.25em;box-sizing: border-box;margin-bottom: 0.5em;}#sk-container-id-1 div.sk-estimator:hover {background-color: #d4ebff;}#sk-container-id-1 div.sk-parallel-item::after {content: \"\";width: 100%;border-bottom: 1px solid gray;flex-grow: 1;}#sk-container-id-1 div.sk-label:hover label.sk-toggleable__label {background-color: #d4ebff;}#sk-container-id-1 div.sk-serial::before {content: \"\";position: absolute;border-left: 1px solid gray;box-sizing: border-box;top: 0;bottom: 0;left: 50%;z-index: 0;}#sk-container-id-1 div.sk-serial {display: flex;flex-direction: column;align-items: center;background-color: white;padding-right: 0.2em;padding-left: 0.2em;position: relative;}#sk-container-id-1 div.sk-item {position: relative;z-index: 1;}#sk-container-id-1 div.sk-parallel {display: flex;align-items: stretch;justify-content: center;background-color: white;position: relative;}#sk-container-id-1 div.sk-item::before, #sk-container-id-1 div.sk-parallel-item::before {content: \"\";position: absolute;border-left: 1px solid gray;box-sizing: border-box;top: 0;bottom: 0;left: 50%;z-index: -1;}#sk-container-id-1 div.sk-parallel-item {display: flex;flex-direction: column;z-index: 1;position: relative;background-color: white;}#sk-container-id-1 div.sk-parallel-item:first-child::after {align-self: flex-end;width: 50%;}#sk-container-id-1 div.sk-parallel-item:last-child::after {align-self: flex-start;width: 50%;}#sk-container-id-1 div.sk-parallel-item:only-child::after {width: 0;}#sk-container-id-1 div.sk-dashed-wrapped {border: 1px dashed gray;margin: 0 0.4em 0.5em 0.4em;box-sizing: border-box;padding-bottom: 0.4em;background-color: white;}#sk-container-id-1 div.sk-label label {font-family: monospace;font-weight: bold;display: inline-block;line-height: 1.2em;}#sk-container-id-1 div.sk-label-container {text-align: center;}#sk-container-id-1 div.sk-container {/* jupyter's `normalize.less` sets `[hidden] { display: none; }` but bootstrap.min.css set `[hidden] { display: none !important; }` so we also need the `!important` here to be able to override the default hidden behavior on the sphinx rendered scikit-learn.org. See: https://github.com/scikit-learn/scikit-learn/issues/21755 */display: inline-block !important;position: relative;}#sk-container-id-1 div.sk-text-repr-fallback {display: none;}</style><div id=\"sk-container-id-1\" class=\"sk-top-container\"><div class=\"sk-text-repr-fallback\"><pre>ElasticNet(alpha=1.2589254117941673, l1_ratio=1.0, random_state=21)</pre><b>In a Jupyter environment, please rerun this cell to show the HTML representation or trust the notebook. <br />On GitHub, the HTML representation is unable to render, please try loading this page with nbviewer.org.</b></div><div class=\"sk-container\" hidden><div class=\"sk-item\"><div class=\"sk-estimator sk-toggleable\"><input class=\"sk-toggleable__control sk-hidden--visually\" id=\"sk-estimator-id-1\" type=\"checkbox\" checked><label for=\"sk-estimator-id-1\" class=\"sk-toggleable__label sk-toggleable__label-arrow\">ElasticNet</label><div class=\"sk-toggleable__content\"><pre>ElasticNet(alpha=1.2589254117941673, l1_ratio=1.0, random_state=21)</pre></div></div></div></div></div>"
      ],
      "text/plain": [
       "ElasticNet(alpha=1.2589254117941673, l1_ratio=1.0, random_state=21)"
      ]
     },
     "execution_count": 49,
     "metadata": {},
     "output_type": "execute_result"
    }
   ],
   "source": [
    "param_grid= {'alpha': np.logspace(0.1, 10, 50),\n",
    "             'l1_ratio': np.linspace(0.1, 1, 10)}\n",
    "\n",
    "grid_search= GridSearchCV(estimator= ElasticNet(random_state=21), param_grid= param_grid, scoring= 'neg_mean_squared_error', cv= 5, n_jobs= -1)\n",
    "grid_search.fit(X_train, y_train)\n",
    "grid_search.best_estimator_"
   ]
  },
  {
   "cell_type": "markdown",
   "id": "bd996788",
   "metadata": {},
   "source": [
    "## RandomizedSearch"
   ]
  },
  {
   "cell_type": "code",
   "execution_count": 50,
   "id": "aa3a250d",
   "metadata": {},
   "outputs": [
    {
     "data": {
      "text/plain": [
       "{'l1_ratio': 0.3545454545454545, 'alpha': 0.0006292146109610344}"
      ]
     },
     "execution_count": 50,
     "metadata": {},
     "output_type": "execute_result"
    }
   ],
   "source": [
    "param_dist = {'alpha': np.logspace(-4, 3, 1000),\n",
    "              'l1_ratio': np.linspace(0.1, 1, 100)}\n",
    "random_search = RandomizedSearchCV(estimator= ElasticNet(random_state=21), param_distributions= param_dist, scoring= 'neg_mean_squared_error', cv= 5, n_jobs= -1)\n",
    "random_search.fit(X_train, y_train)\n",
    "random_search.best_params_"
   ]
  },
  {
   "cell_type": "code",
   "execution_count": 51,
   "id": "cbee983e",
   "metadata": {},
   "outputs": [],
   "source": [
    "write_metrics(grid_search.best_estimator_, 'GridSearch', X_train, X_val, X_test)\n",
    "write_metrics(random_search.best_estimator_, 'RandomizedSearch', X_train, X_val, X_test)"
   ]
  },
  {
   "cell_type": "markdown",
   "id": "d05c8f97",
   "metadata": {},
   "source": [
    "## Optuna"
   ]
  },
  {
   "cell_type": "code",
   "execution_count": 52,
   "id": "0c430d9b",
   "metadata": {},
   "outputs": [
    {
     "name": "stderr",
     "output_type": "stream",
     "text": [
      "[I 2025-09-16 01:03:30,415] A new study created in memory with name: no-name-36a1fa33-cbbc-4f8c-a8d5-a73790cdbcf0\n"
     ]
    },
    {
     "data": {
      "application/vnd.jupyter.widget-view+json": {
       "model_id": "34aa985fd99340b08b0747c46232fcfb",
       "version_major": 2,
       "version_minor": 0
      },
      "text/plain": [
       "  0%|          | 0/50 [00:00<?, ?it/s]"
      ]
     },
     "metadata": {},
     "output_type": "display_data"
    },
    {
     "name": "stdout",
     "output_type": "stream",
     "text": [
      "[I 2025-09-16 01:03:30,523] Trial 0 finished with value: 0.13874848258810973 and parameters: {'alpha': 6.666405427384297, 'l1_ratio': 0.07259726235012431}. Best is trial 0 with value: 0.13874848258810973.\n",
      "[I 2025-09-16 01:03:30,750] Trial 1 finished with value: 0.6010277757629015 and parameters: {'alpha': 0.00018566066368038355, 'l1_ratio': 0.15548529220462304}. Best is trial 1 with value: 0.6010277757629015.\n",
      "[I 2025-09-16 01:03:30,836] Trial 2 finished with value: 0.49104354637061476 and parameters: {'alpha': 0.4404025221577187, 'l1_ratio': 0.09143551648439319}. Best is trial 1 with value: 0.6010277757629015.\n",
      "[I 2025-09-16 01:03:30,920] Trial 3 finished with value: 0.5996122332844573 and parameters: {'alpha': 2.0366935041393495, 'l1_ratio': 0.9945406460781275}. Best is trial 1 with value: 0.6010277757629015.\n",
      "[I 2025-09-16 01:03:31,160] Trial 4 finished with value: 0.6010274220909896 and parameters: {'alpha': 0.00014097256277155161, 'l1_ratio': 0.058630483011713364}. Best is trial 1 with value: 0.6010277757629015.\n",
      "[I 2025-09-16 01:03:31,353] Trial 5 finished with value: 0.601026738666383 and parameters: {'alpha': 0.000448793579651179, 'l1_ratio': 0.8040170132942166}. Best is trial 1 with value: 0.6010277757629015.\n",
      "[I 2025-09-16 01:03:31,542] Trial 6 finished with value: 0.601030915050457 and parameters: {'alpha': 0.0005358784045433889, 'l1_ratio': 0.23102153286672866}. Best is trial 6 with value: 0.601030915050457.\n",
      "[I 2025-09-16 01:03:31,671] Trial 7 finished with value: 0.5934013865763992 and parameters: {'alpha': 0.061658762354424385, 'l1_ratio': 0.31158501906184666}. Best is trial 6 with value: 0.601030915050457.\n",
      "[I 2025-09-16 01:03:31,748] Trial 8 finished with value: 0.01626752727626559 and parameters: {'alpha': 82.70160268175148, 'l1_ratio': 0.24719680122614995}. Best is trial 6 with value: 0.601030915050457.\n",
      "[I 2025-09-16 01:03:31,946] Trial 9 finished with value: 0.6010282954085275 and parameters: {'alpha': 0.0007855563769699684, 'l1_ratio': 0.753509215962249}. Best is trial 6 with value: 0.601030915050457.\n",
      "[I 2025-09-16 01:03:32,094] Trial 10 finished with value: 0.6009904110281933 and parameters: {'alpha': 0.006048126182322119, 'l1_ratio': 0.43605787840809906}. Best is trial 6 with value: 0.601030915050457.\n",
      "[I 2025-09-16 01:03:32,257] Trial 11 finished with value: 0.6010104345831107 and parameters: {'alpha': 0.00784348038877112, 'l1_ratio': 0.6486115535992857}. Best is trial 6 with value: 0.601030915050457.\n",
      "[I 2025-09-16 01:03:32,423] Trial 12 finished with value: 0.6010267087470942 and parameters: {'alpha': 0.005069660931343393, 'l1_ratio': 0.6099028882766807}. Best is trial 6 with value: 0.601030915050457.\n",
      "[I 2025-09-16 01:03:32,612] Trial 13 finished with value: 0.6010299305156543 and parameters: {'alpha': 0.0017378074103778856, 'l1_ratio': 0.8142760887938917}. Best is trial 6 with value: 0.601030915050457.\n",
      "[I 2025-09-16 01:03:32,741] Trial 14 finished with value: 0.5991633528382436 and parameters: {'alpha': 0.03196558983910515, 'l1_ratio': 0.41202589197721484}. Best is trial 6 with value: 0.601030915050457.\n",
      "[I 2025-09-16 01:03:32,826] Trial 15 finished with value: 0.01273929456310281 and parameters: {'alpha': 867.9724359267329, 'l1_ratio': 0.9957552226794302}. Best is trial 6 with value: 0.601030915050457.\n",
      "[I 2025-09-16 01:03:32,984] Trial 16 finished with value: 0.6010335224558657 and parameters: {'alpha': 0.0026881759897078123, 'l1_ratio': 0.5310165427868005}. Best is trial 16 with value: 0.6010335224558657.\n",
      "[I 2025-09-16 01:03:33,088] Trial 17 finished with value: 0.5967157437437869 and parameters: {'alpha': 0.06682781265968253, 'l1_ratio': 0.5506032163287128}. Best is trial 16 with value: 0.6010335224558657.\n",
      "[I 2025-09-16 01:03:33,277] Trial 18 finished with value: 0.6010320918633498 and parameters: {'alpha': 0.0022176669752015533, 'l1_ratio': 0.3164754520099027}. Best is trial 16 with value: 0.6010335224558657.\n",
      "[I 2025-09-16 01:03:33,369] Trial 19 finished with value: 0.5352496610772408 and parameters: {'alpha': 0.36686520378006854, 'l1_ratio': 0.3847001257560283}. Best is trial 16 with value: 0.6010335224558657.\n",
      "[I 2025-09-16 01:03:33,495] Trial 20 finished with value: 0.6005483572033683 and parameters: {'alpha': 0.019310546672507922, 'l1_ratio': 0.5108080539869909}. Best is trial 16 with value: 0.6010335224558657.\n",
      "[I 2025-09-16 01:03:33,686] Trial 21 finished with value: 0.6010328312010724 and parameters: {'alpha': 0.0017953905116774036, 'l1_ratio': 0.21393063233503792}. Best is trial 16 with value: 0.6010335224558657.\n",
      "[I 2025-09-16 01:03:33,862] Trial 22 finished with value: 0.6010302400317329 and parameters: {'alpha': 0.0025957492062951442, 'l1_ratio': 0.33953322287693916}. Best is trial 16 with value: 0.6010335224558657.\n",
      "[I 2025-09-16 01:03:34,052] Trial 23 finished with value: 0.6010334085184832 and parameters: {'alpha': 0.0009458029197392204, 'l1_ratio': 0.20164069450776728}. Best is trial 16 with value: 0.6010335224558657.\n",
      "[I 2025-09-16 01:03:34,266] Trial 24 finished with value: 0.6010270551327395 and parameters: {'alpha': 0.00013194730626594326, 'l1_ratio': 0.17840077527185988}. Best is trial 16 with value: 0.6010335224558657.\n",
      "[I 2025-09-16 01:03:34,404] Trial 25 finished with value: 0.6006263506945148 and parameters: {'alpha': 0.01623111970207829, 'l1_ratio': 0.46432293157505056}. Best is trial 16 with value: 0.6010335224558657.\n",
      "[I 2025-09-16 01:03:34,521] Trial 26 finished with value: 0.5695430091915579 and parameters: {'alpha': 0.13872465492005623, 'l1_ratio': 0.1657696540589042}. Best is trial 16 with value: 0.6010335224558657.\n",
      "[I 2025-09-16 01:03:34,754] Trial 27 finished with value: 0.6010340069646892 and parameters: {'alpha': 0.0010128779826213885, 'l1_ratio': 0.02117319119604194}. Best is trial 27 with value: 0.6010340069646892.\n",
      "[I 2025-09-16 01:03:34,979] Trial 28 finished with value: 0.601031240802415 and parameters: {'alpha': 0.0004690088278290393, 'l1_ratio': 0.05123753500994799}. Best is trial 27 with value: 0.6010340069646892.\n",
      "[I 2025-09-16 01:03:35,069] Trial 29 finished with value: 0.1531155980996795 and parameters: {'alpha': 5.513340929489179, 'l1_ratio': 0.014087218830901116}. Best is trial 27 with value: 0.6010340069646892.\n",
      "[I 2025-09-16 01:03:35,157] Trial 30 finished with value: 0.3659548318550684 and parameters: {'alpha': 1.1779513155576258, 'l1_ratio': 0.0030734354015822807}. Best is trial 27 with value: 0.6010340069646892.\n",
      "[I 2025-09-16 01:03:35,363] Trial 31 finished with value: 0.6010338963549018 and parameters: {'alpha': 0.001271984455472406, 'l1_ratio': 0.09629569486891006}. Best is trial 27 with value: 0.6010340069646892.\n",
      "[I 2025-09-16 01:03:35,575] Trial 32 finished with value: 0.6010336500022639 and parameters: {'alpha': 0.000935554810986918, 'l1_ratio': 0.127871262524022}. Best is trial 27 with value: 0.6010340069646892.\n",
      "[I 2025-09-16 01:03:35,803] Trial 33 finished with value: 0.6010295554834998 and parameters: {'alpha': 0.00032748993318983593, 'l1_ratio': 0.11373763097569944}. Best is trial 27 with value: 0.6010340069646892.\n",
      "[I 2025-09-16 01:03:36,029] Trial 34 finished with value: 0.6010268297421097 and parameters: {'alpha': 0.00010686325247443271, 'l1_ratio': 0.12218301891744983}. Best is trial 27 with value: 0.6010340069646892.\n",
      "[I 2025-09-16 01:03:36,203] Trial 35 finished with value: 0.6006058636393486 and parameters: {'alpha': 0.009724540219642013, 'l1_ratio': 0.0831204372311038}. Best is trial 27 with value: 0.6010340069646892.\n",
      "[I 2025-09-16 01:03:36,387] Trial 36 finished with value: 0.6010070747681151 and parameters: {'alpha': 0.0039716094904615, 'l1_ratio': 0.27139111208353295}. Best is trial 27 with value: 0.6010340069646892.\n",
      "[I 2025-09-16 01:03:36,598] Trial 37 finished with value: 0.6010267443563864 and parameters: {'alpha': 0.00025862995387530114, 'l1_ratio': 0.6584757215296297}. Best is trial 27 with value: 0.6010340069646892.\n",
      "[I 2025-09-16 01:03:36,798] Trial 38 finished with value: 0.6010339003606975 and parameters: {'alpha': 0.0010408520930535738, 'l1_ratio': 0.1261710800062109}. Best is trial 27 with value: 0.6010340069646892.\n",
      "[I 2025-09-16 01:03:37,025] Trial 39 finished with value: 0.6010328608639616 and parameters: {'alpha': 0.000758490669177854, 'l1_ratio': 0.14146331574361742}. Best is trial 27 with value: 0.6010340069646892.\n",
      "[I 2025-09-16 01:03:37,264] Trial 40 finished with value: 0.6010339812907914 and parameters: {'alpha': 0.0010192826996307954, 'l1_ratio': 0.05611136756729471}. Best is trial 27 with value: 0.6010340069646892.\n",
      "[I 2025-09-16 01:03:37,529] Trial 41 finished with value: 0.6010336359787625 and parameters: {'alpha': 0.0013292909089440176, 'l1_ratio': 0.06252988890971897}. Best is trial 27 with value: 0.6010340069646892.\n",
      "[I 2025-09-16 01:03:37,808] Trial 42 finished with value: 0.6010292303619627 and parameters: {'alpha': 0.000274672946893429, 'l1_ratio': 0.03865767198341152}. Best is trial 27 with value: 0.6010340069646892.\n",
      "[I 2025-09-16 01:03:38,023] Trial 43 finished with value: 0.6010325073708687 and parameters: {'alpha': 0.0006673770665395512, 'l1_ratio': 0.10475685646766952}. Best is trial 27 with value: 0.6010340069646892.\n",
      "[I 2025-09-16 01:03:38,171] Trial 44 finished with value: 0.6003505031088373 and parameters: {'alpha': 0.0131994314608176, 'l1_ratio': 0.15281271703666116}. Best is trial 27 with value: 0.6010340069646892.\n",
      "[I 2025-09-16 01:03:38,363] Trial 45 finished with value: 0.6010277189996636 and parameters: {'alpha': 0.00021093472867424605, 'l1_ratio': 0.27520032585238285}. Best is trial 27 with value: 0.6010340069646892.\n",
      "[I 2025-09-16 01:03:38,476] Trial 46 finished with value: 0.5953671370254856 and parameters: {'alpha': 0.03834644905084041, 'l1_ratio': 0.07760386538246125}. Best is trial 27 with value: 0.6010340069646892.\n",
      "[I 2025-09-16 01:03:38,683] Trial 47 finished with value: 0.6009348535522574 and parameters: {'alpha': 0.004684375969442585, 'l1_ratio': 0.0008064798995273403}. Best is trial 27 with value: 0.6010340069646892.\n",
      "[I 2025-09-16 01:03:38,772] Trial 48 finished with value: 0.04724829501610266 and parameters: {'alpha': 28.058077345223808, 'l1_ratio': 0.24162344803007457}. Best is trial 27 with value: 0.6010340069646892.\n",
      "[I 2025-09-16 01:03:38,978] Trial 49 finished with value: 0.6010338391745673 and parameters: {'alpha': 0.001067985096556233, 'l1_ratio': 0.1743644119557135}. Best is trial 27 with value: 0.6010340069646892.\n",
      "{'alpha': 0.0010128779826213885, 'l1_ratio': 0.02117319119604194}\n"
     ]
    }
   ],
   "source": [
    "def objective(trial):\n",
    "    alpha = trial.suggest_float('alpha', 1e-4, 1e3, log=True)\n",
    "    l1_ratio = trial.suggest_float('l1_ratio', 0.0, 1)\n",
    "\n",
    "    optuna_el = ElasticNet(alpha=alpha, l1_ratio=l1_ratio, random_state=21)\n",
    "    cv = KFold(n_splits=5, shuffle=True, random_state=21)\n",
    "    score = cross_val_score(optuna_el, X_train, y_train, cv=cv, scoring='r2')\n",
    "\n",
    "    return np.mean(score)\n",
    "\n",
    "study = optuna.create_study(direction='maximize')\n",
    "study.optimize(objective, n_trials=50, show_progress_bar=True)\n",
    "\n",
    "print(study.best_params)"
   ]
  },
  {
   "cell_type": "code",
   "execution_count": 53,
   "id": "a5129d4e",
   "metadata": {},
   "outputs": [],
   "source": [
    "best_model = ElasticNet(**study.best_params, random_state=21)\n",
    "best_model.fit(X_train, y_train)\n",
    "pred = best_model.predict(X_test)\n"
   ]
  },
  {
   "cell_type": "code",
   "execution_count": 54,
   "id": "72620c8c",
   "metadata": {},
   "outputs": [],
   "source": [
    "write_metrics(best_model, 'Optuna', X_train, X_val, X_test)"
   ]
  },
  {
   "cell_type": "code",
   "execution_count": 56,
   "id": "2d0b18a5",
   "metadata": {},
   "outputs": [
    {
     "data": {
      "text/html": [
       "<div>\n",
       "<style scoped>\n",
       "    .dataframe tbody tr th:only-of-type {\n",
       "        vertical-align: middle;\n",
       "    }\n",
       "\n",
       "    .dataframe tbody tr th {\n",
       "        vertical-align: top;\n",
       "    }\n",
       "\n",
       "    .dataframe thead th {\n",
       "        text-align: right;\n",
       "    }\n",
       "</style>\n",
       "<table border=\"1\" class=\"dataframe\">\n",
       "  <thead>\n",
       "    <tr style=\"text-align: right;\">\n",
       "      <th></th>\n",
       "      <th>name</th>\n",
       "      <th>DS_name</th>\n",
       "      <th>R2</th>\n",
       "      <th>MAE</th>\n",
       "      <th>RMSE</th>\n",
       "    </tr>\n",
       "  </thead>\n",
       "  <tbody>\n",
       "    <tr>\n",
       "      <th>17</th>\n",
       "      <td>RandomizedSearch</td>\n",
       "      <td>test</td>\n",
       "      <td>0.616165</td>\n",
       "      <td>688.848389</td>\n",
       "      <td>995.008774</td>\n",
       "    </tr>\n",
       "    <tr>\n",
       "      <th>20</th>\n",
       "      <td>Optuna</td>\n",
       "      <td>test</td>\n",
       "      <td>0.616119</td>\n",
       "      <td>688.800127</td>\n",
       "      <td>995.068116</td>\n",
       "    </tr>\n",
       "    <tr>\n",
       "      <th>14</th>\n",
       "      <td>GridSearch</td>\n",
       "      <td>test</td>\n",
       "      <td>0.615867</td>\n",
       "      <td>688.353577</td>\n",
       "      <td>995.395433</td>\n",
       "    </tr>\n",
       "    <tr>\n",
       "      <th>2</th>\n",
       "      <td>X_train_10</td>\n",
       "      <td>test</td>\n",
       "      <td>0.611971</td>\n",
       "      <td>691.971388</td>\n",
       "      <td>1000.430892</td>\n",
       "    </tr>\n",
       "    <tr>\n",
       "      <th>8</th>\n",
       "      <td>X_train_perm</td>\n",
       "      <td>test</td>\n",
       "      <td>0.610312</td>\n",
       "      <td>692.804843</td>\n",
       "      <td>1002.567229</td>\n",
       "    </tr>\n",
       "    <tr>\n",
       "      <th>11</th>\n",
       "      <td>X_train_shap</td>\n",
       "      <td>test</td>\n",
       "      <td>0.610312</td>\n",
       "      <td>692.804454</td>\n",
       "      <td>1002.567261</td>\n",
       "    </tr>\n",
       "    <tr>\n",
       "      <th>5</th>\n",
       "      <td>X_train_corr</td>\n",
       "      <td>test</td>\n",
       "      <td>0.610007</td>\n",
       "      <td>694.539810</td>\n",
       "      <td>1002.959246</td>\n",
       "    </tr>\n",
       "    <tr>\n",
       "      <th>15</th>\n",
       "      <td>RandomizedSearch</td>\n",
       "      <td>train</td>\n",
       "      <td>0.602288</td>\n",
       "      <td>685.541438</td>\n",
       "      <td>991.842577</td>\n",
       "    </tr>\n",
       "    <tr>\n",
       "      <th>18</th>\n",
       "      <td>Optuna</td>\n",
       "      <td>train</td>\n",
       "      <td>0.602281</td>\n",
       "      <td>685.442007</td>\n",
       "      <td>991.850819</td>\n",
       "    </tr>\n",
       "    <tr>\n",
       "      <th>12</th>\n",
       "      <td>GridSearch</td>\n",
       "      <td>train</td>\n",
       "      <td>0.602065</td>\n",
       "      <td>684.889898</td>\n",
       "      <td>992.120950</td>\n",
       "    </tr>\n",
       "    <tr>\n",
       "      <th>19</th>\n",
       "      <td>Optuna</td>\n",
       "      <td>valid</td>\n",
       "      <td>0.600574</td>\n",
       "      <td>690.967803</td>\n",
       "      <td>1013.340292</td>\n",
       "    </tr>\n",
       "    <tr>\n",
       "      <th>16</th>\n",
       "      <td>RandomizedSearch</td>\n",
       "      <td>valid</td>\n",
       "      <td>0.600534</td>\n",
       "      <td>691.060303</td>\n",
       "      <td>1013.391008</td>\n",
       "    </tr>\n",
       "    <tr>\n",
       "      <th>13</th>\n",
       "      <td>GridSearch</td>\n",
       "      <td>valid</td>\n",
       "      <td>0.600527</td>\n",
       "      <td>690.233174</td>\n",
       "      <td>1013.399606</td>\n",
       "    </tr>\n",
       "    <tr>\n",
       "      <th>0</th>\n",
       "      <td>X_train_10</td>\n",
       "      <td>train</td>\n",
       "      <td>0.597708</td>\n",
       "      <td>688.487584</td>\n",
       "      <td>997.536548</td>\n",
       "    </tr>\n",
       "    <tr>\n",
       "      <th>1</th>\n",
       "      <td>X_train_10</td>\n",
       "      <td>valid</td>\n",
       "      <td>0.597577</td>\n",
       "      <td>693.440925</td>\n",
       "      <td>1017.134640</td>\n",
       "    </tr>\n",
       "    <tr>\n",
       "      <th>6</th>\n",
       "      <td>X_train_perm</td>\n",
       "      <td>train</td>\n",
       "      <td>0.597274</td>\n",
       "      <td>688.561811</td>\n",
       "      <td>998.074835</td>\n",
       "    </tr>\n",
       "    <tr>\n",
       "      <th>9</th>\n",
       "      <td>X_train_shap</td>\n",
       "      <td>train</td>\n",
       "      <td>0.597274</td>\n",
       "      <td>688.561403</td>\n",
       "      <td>998.074843</td>\n",
       "    </tr>\n",
       "    <tr>\n",
       "      <th>7</th>\n",
       "      <td>X_train_perm</td>\n",
       "      <td>valid</td>\n",
       "      <td>0.596579</td>\n",
       "      <td>694.295245</td>\n",
       "      <td>1018.395191</td>\n",
       "    </tr>\n",
       "    <tr>\n",
       "      <th>10</th>\n",
       "      <td>X_train_shap</td>\n",
       "      <td>valid</td>\n",
       "      <td>0.596579</td>\n",
       "      <td>694.294885</td>\n",
       "      <td>1018.395322</td>\n",
       "    </tr>\n",
       "    <tr>\n",
       "      <th>3</th>\n",
       "      <td>X_train_corr</td>\n",
       "      <td>train</td>\n",
       "      <td>0.596291</td>\n",
       "      <td>690.460349</td>\n",
       "      <td>999.291887</td>\n",
       "    </tr>\n",
       "    <tr>\n",
       "      <th>4</th>\n",
       "      <td>X_train_corr</td>\n",
       "      <td>valid</td>\n",
       "      <td>0.596090</td>\n",
       "      <td>694.965709</td>\n",
       "      <td>1019.012515</td>\n",
       "    </tr>\n",
       "  </tbody>\n",
       "</table>\n",
       "</div>"
      ],
      "text/plain": [
       "                name DS_name        R2         MAE         RMSE\n",
       "17  RandomizedSearch    test  0.616165  688.848389   995.008774\n",
       "20            Optuna    test  0.616119  688.800127   995.068116\n",
       "14        GridSearch    test  0.615867  688.353577   995.395433\n",
       "2         X_train_10    test  0.611971  691.971388  1000.430892\n",
       "8       X_train_perm    test  0.610312  692.804843  1002.567229\n",
       "11      X_train_shap    test  0.610312  692.804454  1002.567261\n",
       "5       X_train_corr    test  0.610007  694.539810  1002.959246\n",
       "15  RandomizedSearch   train  0.602288  685.541438   991.842577\n",
       "18            Optuna   train  0.602281  685.442007   991.850819\n",
       "12        GridSearch   train  0.602065  684.889898   992.120950\n",
       "19            Optuna   valid  0.600574  690.967803  1013.340292\n",
       "16  RandomizedSearch   valid  0.600534  691.060303  1013.391008\n",
       "13        GridSearch   valid  0.600527  690.233174  1013.399606\n",
       "0         X_train_10   train  0.597708  688.487584   997.536548\n",
       "1         X_train_10   valid  0.597577  693.440925  1017.134640\n",
       "6       X_train_perm   train  0.597274  688.561811   998.074835\n",
       "9       X_train_shap   train  0.597274  688.561403   998.074843\n",
       "7       X_train_perm   valid  0.596579  694.295245  1018.395191\n",
       "10      X_train_shap   valid  0.596579  694.294885  1018.395322\n",
       "3       X_train_corr   train  0.596291  690.460349   999.291887\n",
       "4       X_train_corr   valid  0.596090  694.965709  1019.012515"
      ]
     },
     "execution_count": 56,
     "metadata": {},
     "output_type": "execute_result"
    }
   ],
   "source": [
    "metrics.sort_values(by= ['R2', 'RMSE', 'MAE'], ascending=[False, True, True])"
   ]
  }
 ],
 "metadata": {
  "kernelspec": {
   "display_name": "Python 3 (ipykernel)",
   "language": "python",
   "name": "python3"
  },
  "language_info": {
   "codemirror_mode": {
    "name": "ipython",
    "version": 3
   },
   "file_extension": ".py",
   "mimetype": "text/x-python",
   "name": "python",
   "nbconvert_exporter": "python",
   "pygments_lexer": "ipython3",
   "version": "3.11.5"
  }
 },
 "nbformat": 4,
 "nbformat_minor": 5
}
